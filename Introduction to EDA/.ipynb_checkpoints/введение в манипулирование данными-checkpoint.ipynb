{
 "cells": [
  {
   "cell_type": "code",
   "execution_count": null,
   "metadata": {
    "collapsed": true
   },
   "outputs": [],
   "source": [
    "import pandas as pd\n",
    "pd.options.display.max_rows = 100 # тут меняем количество строк для отображения\n",
    "import datetime # библиотека для работы с датами и временем\n",
    "import numpy as np\n",
    "import matplotlib.pyplot as plt\n",
    "import seaborn as sns # библиотека для визуализации\n",
    "\n",
    "# специально написанная функция для построения гистограмм для категориальных признаков\n",
    "def plot_column_hist(df, col_name = 'subject_norm', rotation_angle = 90, num_elements = 20):\n",
    "    tbl = df[col_name].value_counts().reset_index()[:num_elements]\n",
    "    tbl = tbl.rename(columns={'index': col_name, col_name: 'qty'}, \n",
    "                     index=str).sort_values(by = 'qty', ascending = False)\n",
    "    x = np.arange(tbl.shape[0])\n",
    "    plt.figure(figsize = (10, 6))\n",
    "    plt.bar(x, tbl.qty)\n",
    "    plt.xticks(x, tbl[col_name], rotation = rotation_angle)\n",
    "    plt.show()\n",
    "\n",
    "%pylab inline"
   ]
  },
  {
   "cell_type": "markdown",
   "metadata": {},
   "source": [
    "### Задание по подготовки, нормализации данных.\n",
    "Загрузим данные по успеваемости учащихся нескольких московских школ."
   ]
  },
  {
   "cell_type": "code",
   "execution_count": null,
   "metadata": {
    "collapsed": true
   },
   "outputs": [],
   "source": [
    "%%time\n",
    "df = pd.read_csv('marks_for_prerocessing_sirius.csv.gzip', sep = ';', compression = 'gzip')\n",
    "df['mark'] = df['mark*weight'] / df['weight']"
   ]
  },
  {
   "cell_type": "code",
   "execution_count": null,
   "metadata": {
    "collapsed": true
   },
   "outputs": [],
   "source": [
    "df.shape"
   ]
  },
  {
   "cell_type": "code",
   "execution_count": null,
   "metadata": {
    "collapsed": true
   },
   "outputs": [],
   "source": [
    "df.head(2)"
   ]
  },
  {
   "cell_type": "markdown",
   "metadata": {},
   "source": [
    "Состав полей:   \n",
    "guid - идентификатор ученика,   \n",
    "subject_name - назание предмета,   \n",
    "class_level_name - номер параллели учащегося,   \n",
    "letter - буква,   \n",
    "weight - вес полученной оценки (какие-то оценки являются более важными, например контрольные, самостоятельные работы),   \n",
    "control_form_name - краткое наименование формы контрольной работы,   \n",
    "lesson_date - дата урока.\n",
    "### Взглянем на названия предметов."
   ]
  },
  {
   "cell_type": "code",
   "execution_count": null,
   "metadata": {
    "collapsed": true,
    "scrolled": true
   },
   "outputs": [],
   "source": [
    "df.subject_name.value_counts()"
   ]
  },
  {
   "cell_type": "code",
   "execution_count": null,
   "metadata": {
    "collapsed": true
   },
   "outputs": [],
   "source": [
    "df.subject_name.unique().shape[0]"
   ]
  },
  {
   "cell_type": "markdown",
   "metadata": {},
   "source": [
    "Видно, что предметов слишком много, и так называемый хвост не является содержательным если мы анализируем общую успеваемость. Давайте оценим, каким количеством предметов можно пренебречь, посчитаем количество поставленных оценок накопительным итогом по предметам, упорядоченным от часто встречающихся к редко встречающимся. И оценим долю от всех оценок."
   ]
  },
  {
   "cell_type": "code",
   "execution_count": null,
   "metadata": {
    "collapsed": true
   },
   "outputs": [],
   "source": [
    "(df.subject_name.value_counts().cumsum().head(80) / df.shape[0]).reset_index()"
   ]
  },
  {
   "cell_type": "markdown",
   "metadata": {},
   "source": [
    "Получается что можно оставить только 74 предмета и они будут составлять 99% от всех поставленных оценок.   \n",
    "Оставим только эти 74 предмета и перейдем к нормализации предметов."
   ]
  },
  {
   "cell_type": "code",
   "execution_count": null,
   "metadata": {
    "collapsed": true
   },
   "outputs": [],
   "source": [
    "(df.subject_name.value_counts().cumsum().head(74) / df.shape[0]).reset_index().rename(columns={'index': 'subject_name', \n",
    "    'subject_name': 'qty'}, index=str).to_csv('subject_ref.csv', sep = ',', index = False)"
   ]
  },
  {
   "cell_type": "markdown",
   "metadata": {},
   "source": [
    "Мы сохранили данные для подготовки справочника и сейчас займемся унификацией предметов в любом текстовом редакторе: содаем дополнительную колонку и исходя из своих экспертных знаний присваиваем им унифицированные значения."
   ]
  },
  {
   "cell_type": "code",
   "execution_count": null,
   "metadata": {
    "collapsed": true
   },
   "outputs": [],
   "source": [
    "s_ref = pd.read_csv('subject_ref_done.csv', sep = ';')\n",
    "del s_ref['qty']\n",
    "s_ref.head(2)"
   ]
  },
  {
   "cell_type": "markdown",
   "metadata": {},
   "source": [
    "Теперь объединим две таблицы."
   ]
  },
  {
   "cell_type": "code",
   "execution_count": null,
   "metadata": {
    "collapsed": true
   },
   "outputs": [],
   "source": [
    "%%time\n",
    "df = pd.merge(df, s_ref, how = 'inner', on = 'subject_name')"
   ]
  },
  {
   "cell_type": "code",
   "execution_count": null,
   "metadata": {
    "collapsed": true
   },
   "outputs": [],
   "source": [
    "df.head(2)"
   ]
  },
  {
   "cell_type": "code",
   "execution_count": null,
   "metadata": {
    "collapsed": true
   },
   "outputs": [],
   "source": [
    "plot_column_hist(df, 'subject_norm', rotation_angle = 90, num_elements = 50)"
   ]
  },
  {
   "cell_type": "markdown",
   "metadata": {},
   "source": [
    "Теперь приведем даты в соответствующий формат (сейчас это текст)."
   ]
  },
  {
   "cell_type": "code",
   "execution_count": null,
   "metadata": {
    "collapsed": true
   },
   "outputs": [],
   "source": [
    "df.dtypes['lesson_date']"
   ]
  },
  {
   "cell_type": "code",
   "execution_count": null,
   "metadata": {
    "collapsed": true
   },
   "outputs": [],
   "source": [
    "%%time\n",
    "df.lesson_date = df.lesson_date.apply(lambda x: datetime.datetime.strptime(x, '%Y-%m-%d'))"
   ]
  },
  {
   "cell_type": "code",
   "execution_count": null,
   "metadata": {
    "collapsed": true
   },
   "outputs": [],
   "source": [
    "df.dtypes['lesson_date']"
   ]
  },
  {
   "cell_type": "markdown",
   "metadata": {},
   "source": [
    "Добавим колонку, в которой будет только месяц, без дня. Используем его в дальнейшем для агрегации."
   ]
  },
  {
   "cell_type": "code",
   "execution_count": null,
   "metadata": {
    "collapsed": true
   },
   "outputs": [],
   "source": [
    "df.lesson_date.apply(lambda x: datetime.date(x.year, x.month, 1)).value_counts()"
   ]
  },
  {
   "cell_type": "code",
   "execution_count": null,
   "metadata": {
    "collapsed": true
   },
   "outputs": [],
   "source": [
    "df['mondate'] = df.lesson_date.apply(lambda x: datetime.date(x.year, x.month, 1))"
   ]
  },
  {
   "cell_type": "markdown",
   "metadata": {},
   "source": [
    "Первая визуализация: Давайте посмотрим, как меняется средняя успеваемость в течении года."
   ]
  },
  {
   "cell_type": "code",
   "execution_count": null,
   "metadata": {
    "collapsed": true
   },
   "outputs": [],
   "source": [
    "sns.heatmap(pd.pivot_table(df, index = 'subject_norm', columns = 'mondate', values = 'mark', \n",
    "                           aggfunc = np.mean), figsize (8, 12), cmap='RdYlGn_r', linewidths=1, annot=True)"
   ]
  },
  {
   "cell_type": "markdown",
   "metadata": {},
   "source": [
    "Попробуйте ответить на простые ответы, взглянув на эту диаграмму:    \n",
    "По каким предметам успеваемость меняется в течении года кардинально?   \n",
    "По каким предметам мы имеем наивысшую успеваемость?    \n",
    "По каким предметам успеваемость заметно ниже средней?    \n",
    "По каким успеваемость улучшается в течении года?"
   ]
  },
  {
   "cell_type": "markdown",
   "metadata": {},
   "source": [
    "#### Возьмем предыдущую диаграмму за основу и изменим ее так, чтобы вместо месяцев были порядковые номера параллелей"
   ]
  },
  {
   "cell_type": "code",
   "execution_count": null,
   "metadata": {
    "collapsed": true
   },
   "outputs": [],
   "source": [
    "### ВАШ КОД ЗДЕСЬ"
   ]
  },
  {
   "cell_type": "markdown",
   "metadata": {},
   "source": [
    "#### Придумайте вопросы, которые могут помочь вам выявить закономерности в данных и ответьте на них"
   ]
  },
  {
   "cell_type": "markdown",
   "metadata": {},
   "source": [
    "ваши вопросы и ответы здесь"
   ]
  },
  {
   "cell_type": "code",
   "execution_count": null,
   "metadata": {
    "collapsed": true
   },
   "outputs": [],
   "source": [
    "for i in range(7):\n",
    "    x = datetime.date(2018, 6, 1 + i)\n",
    "    print(x)\n",
    "    print(x.weekday())\n",
    "    print((x - datetime.timedelta(x.weekday())))\n",
    "    print()"
   ]
  },
  {
   "cell_type": "markdown",
   "metadata": {},
   "source": [
    "Самостоятельное задание: выделите из даты номер недели и получите похожую диаграмму, \n",
    "но вместо месяцев нужны будут недели.    \n",
    "Для этого вам могут быть полезны следующие приемы:"
   ]
  },
  {
   "cell_type": "code",
   "execution_count": null,
   "metadata": {
    "collapsed": true
   },
   "outputs": [],
   "source": [
    "x = datetime.date(2018, 6, 1)\n",
    "print('это дата', x)\n",
    "print('этот метод возвращает номер недели для даты', x.weekday())\n",
    "print('чтобы складывать даты, можно использовать тип timedelta, первый агрумент это количество дней', \n",
    "      datetime.timedelta(1))\n",
    "print('добавить день к дате можно так', x + datetime.timedelta(1))"
   ]
  },
  {
   "cell_type": "markdown",
   "metadata": {},
   "source": [
    "Посмотрите на заполненность формы ответа, попробуйте написать на питоне функцию, которая бы нормализовала бы эти значения."
   ]
  },
  {
   "cell_type": "code",
   "execution_count": null,
   "metadata": {
    "collapsed": true,
    "scrolled": true
   },
   "outputs": [],
   "source": [
    "df.control_form_name.value_counts()"
   ]
  },
  {
   "cell_type": "code",
   "execution_count": null,
   "metadata": {
    "collapsed": true
   },
   "outputs": [],
   "source": [
    "plot_column_hist(df, 'control_form_name', rotation_angle = 90, num_elements = 50)"
   ]
  },
  {
   "cell_type": "code",
   "execution_count": null,
   "metadata": {
    "collapsed": true
   },
   "outputs": [],
   "source": []
  }
 ],
 "metadata": {
  "kernelspec": {
   "display_name": "Python 3",
   "language": "python",
   "name": "python3"
  },
  "language_info": {
   "codemirror_mode": {
    "name": "ipython",
    "version": 3
   },
   "file_extension": ".py",
   "mimetype": "text/x-python",
   "name": "python",
   "nbconvert_exporter": "python",
   "pygments_lexer": "ipython3",
   "version": "3.6.1"
  }
 },
 "nbformat": 4,
 "nbformat_minor": 2
}
