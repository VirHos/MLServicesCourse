{
 "cells": [
  {
   "cell_type": "markdown",
   "metadata": {},
   "source": [
    "# Импорт необходимых библиотек"
   ]
  },
  {
   "cell_type": "code",
   "execution_count": 1,
   "metadata": {
    "collapsed": true
   },
   "outputs": [],
   "source": [
    "# Основания библиотека\n",
    "from flask import Flask\n",
    "# Позволяет получать запросы\n",
    "from flask import request\n",
    "# Позволяет преобразовывать python словарь в json\n",
    "from flask.json import jsonify\n",
    "\n",
    "import pandas as pd"
   ]
  },
  {
   "cell_type": "markdown",
   "metadata": {},
   "source": [
    "# Тело сервиса"
   ]
  },
  {
   "cell_type": "code",
   "execution_count": 2,
   "metadata": {
    "collapsed": true
   },
   "outputs": [],
   "source": [
    "# Подготовка приложения к работе\n",
    "APP = Flask(__name__)"
   ]
  },
  {
   "cell_type": "code",
   "execution_count": 3,
   "metadata": {},
   "outputs": [],
   "source": [
    "# Обратите внимание, что тут другой адрес функции, и название. Реализуется http-метод POST\n",
    "@APP.route('/dataframe', methods=['POST'])\n",
    "def dataframe():\n",
    "    # Получили посланный документ и преобразовали из JSON в словарь python\n",
    "    jdict = request.get_json(force=True)\n",
    "    data=pd.read_csv('data_backend.txt', sep='\\t', encoding='cp1251')\n",
    "    print(jdict)\n",
    "    answer=pd.DataFrame()\n",
    "    answer={}\n",
    "    data_=pd.DataFrame({'person_id':[], 'proba':[], 'category':[]})\n",
    "    \n",
    "    for col in jdict['Name']:\n",
    "        new_data={\n",
    "            'person_id': data[data[col]>=jdict[\"P\"]]['person_id'],\n",
    "            'proba':data[data[col]>=jdict[\"P\"]][col],\n",
    "            'category': [col]*data[data[col]>=jdict[\"P\"]].shape[0]\n",
    "        }\n",
    "        data_=pd.concat([data_, pd.DataFrame(new_data)])\n",
    "    answer['message']=data_[['person_id', 'category', 'proba']]\n",
    "    return pd.io.json.dumps(answer, ensure_ascii=False)"
   ]
  },
  {
   "cell_type": "code",
   "execution_count": 6,
   "metadata": {},
   "outputs": [
    {
     "data": {
      "text/plain": [
       "'Образование Образование Образование Образование Образование Образование Образование Образование Образование Образование '"
      ]
     },
     "execution_count": 6,
     "metadata": {},
     "output_type": "execute_result"
    }
   ],
   "source": [
    "\"Образование \"*10"
   ]
  },
  {
   "cell_type": "code",
   "execution_count": 4,
   "metadata": {},
   "outputs": [
    {
     "data": {
      "text/plain": [
       "\"data=pd.read_csv('data_backend.txt', sep='\\t', encoding='cp1251')\\ndata_=pd.DataFrame(data={'person_id':[], 'proba':[], 'category':[]})\\nfor col in data.columns[1:3]:\\n    new_data={\\n        'person_id': data[data[col]>=0.5]['person_id'],\\n        'proba':data[data[col]>=0.5][col],\\n        'category': [col]*data[data[col]>=0.5].shape[0]\\n    }\\n    data_=pd.concat([data_, pd.DataFrame(new_data)])\\nprint(data_[['person_id', 'category', 'proba']])\""
      ]
     },
     "execution_count": 4,
     "metadata": {},
     "output_type": "execute_result"
    }
   ],
   "source": [
    "\"\"\"data=pd.read_csv('data_backend.txt', sep='\\t', encoding='cp1251')\n",
    "data_=pd.DataFrame(data={'person_id':[], 'proba':[], 'category':[]})\n",
    "for col in data.columns[1:3]:\n",
    "    new_data={\n",
    "        'person_id': data[data[col]>=0.5]['person_id'],\n",
    "        'proba':data[data[col]>=0.5][col],\n",
    "        'category': [col]*data[data[col]>=0.5].shape[0]\n",
    "    }\n",
    "    data_=pd.concat([data_, pd.DataFrame(new_data)])\n",
    "print(data_[['person_id', 'category', 'proba']])\"\"\""
   ]
  },
  {
   "cell_type": "markdown",
   "metadata": {},
   "source": [
    "# Запускаем веб-сервис"
   ]
  },
  {
   "cell_type": "code",
   "execution_count": 5,
   "metadata": {},
   "outputs": [
    {
     "name": "stderr",
     "output_type": "stream",
     "text": [
      " * Running on http://127.0.0.1:5000/ (Press CTRL+C to quit)\n",
      "[2018-07-13 13:37:33,530] ERROR in app: Exception on /dataframe [POST]\n",
      "Traceback (most recent call last):\n",
      "  File \"C:\\ProgramData\\Anaconda3\\lib\\site-packages\\pandas\\core\\indexes\\base.py\", line 2442, in get_loc\n",
      "    return self._engine.get_loc(key)\n",
      "  File \"pandas\\_libs\\index.pyx\", line 132, in pandas._libs.index.IndexEngine.get_loc\n",
      "  File \"pandas\\_libs\\index.pyx\", line 154, in pandas._libs.index.IndexEngine.get_loc\n",
      "  File \"pandas\\_libs\\hashtable_class_helper.pxi\", line 1210, in pandas._libs.hashtable.PyObjectHashTable.get_item\n",
      "  File \"pandas\\_libs\\hashtable_class_helper.pxi\", line 1218, in pandas._libs.hashtable.PyObjectHashTable.get_item\n",
      "KeyError: 'О'\n",
      "\n",
      "During handling of the above exception, another exception occurred:\n",
      "\n",
      "Traceback (most recent call last):\n",
      "  File \"C:\\ProgramData\\Anaconda3\\lib\\site-packages\\flask\\app.py\", line 1982, in wsgi_app\n",
      "    response = self.full_dispatch_request()\n",
      "  File \"C:\\ProgramData\\Anaconda3\\lib\\site-packages\\flask\\app.py\", line 1614, in full_dispatch_request\n",
      "    rv = self.handle_user_exception(e)\n",
      "  File \"C:\\ProgramData\\Anaconda3\\lib\\site-packages\\flask\\app.py\", line 1517, in handle_user_exception\n",
      "    reraise(exc_type, exc_value, tb)\n",
      "  File \"C:\\ProgramData\\Anaconda3\\lib\\site-packages\\flask\\_compat.py\", line 33, in reraise\n",
      "    raise value\n",
      "  File \"C:\\ProgramData\\Anaconda3\\lib\\site-packages\\flask\\app.py\", line 1612, in full_dispatch_request\n",
      "    rv = self.dispatch_request()\n",
      "  File \"C:\\ProgramData\\Anaconda3\\lib\\site-packages\\flask\\app.py\", line 1598, in dispatch_request\n",
      "    return self.view_functions[rule.endpoint](**req.view_args)\n",
      "  File \"<ipython-input-3-c12379394f58>\", line 15, in dataframe\n",
      "    'person_id': data[data[col]>=jdict[\"P\"]]['person_id'],\n",
      "  File \"C:\\ProgramData\\Anaconda3\\lib\\site-packages\\pandas\\core\\frame.py\", line 1964, in __getitem__\n",
      "    return self._getitem_column(key)\n",
      "  File \"C:\\ProgramData\\Anaconda3\\lib\\site-packages\\pandas\\core\\frame.py\", line 1971, in _getitem_column\n",
      "    return self._get_item_cache(key)\n",
      "  File \"C:\\ProgramData\\Anaconda3\\lib\\site-packages\\pandas\\core\\generic.py\", line 1645, in _get_item_cache\n",
      "    values = self._data.get(item)\n",
      "  File \"C:\\ProgramData\\Anaconda3\\lib\\site-packages\\pandas\\core\\internals.py\", line 3590, in get\n",
      "    loc = self.items.get_loc(item)\n",
      "  File \"C:\\ProgramData\\Anaconda3\\lib\\site-packages\\pandas\\core\\indexes\\base.py\", line 2444, in get_loc\n",
      "    return self._engine.get_loc(self._maybe_cast_indexer(key))\n",
      "  File \"pandas\\_libs\\index.pyx\", line 132, in pandas._libs.index.IndexEngine.get_loc\n",
      "  File \"pandas\\_libs\\index.pyx\", line 154, in pandas._libs.index.IndexEngine.get_loc\n",
      "  File \"pandas\\_libs\\hashtable_class_helper.pxi\", line 1210, in pandas._libs.hashtable.PyObjectHashTable.get_item\n",
      "  File \"pandas\\_libs\\hashtable_class_helper.pxi\", line 1218, in pandas._libs.hashtable.PyObjectHashTable.get_item\n",
      "KeyError: 'О'\n",
      "127.0.0.1 - - [13/Jul/2018 13:37:33] \"POST /dataframe HTTP/1.1\" 500 -\n"
     ]
    },
    {
     "name": "stdout",
     "output_type": "stream",
     "text": [
      "{'P': 0.5, 'Name': 'Образование'}\n"
     ]
    },
    {
     "name": "stderr",
     "output_type": "stream",
     "text": [
      "127.0.0.1 - - [13/Jul/2018 13:40:27] \"POST /dataframe HTTP/1.1\" 200 -\n"
     ]
    },
    {
     "name": "stdout",
     "output_type": "stream",
     "text": [
      "{'P': 0.5, 'Name': ['Образование', 'Политика']}\n"
     ]
    }
   ],
   "source": [
    "APP.run()"
   ]
  },
  {
   "cell_type": "markdown",
   "metadata": {},
   "source": [
    "______"
   ]
  }
 ],
 "metadata": {
  "kernelspec": {
   "display_name": "Python 3",
   "language": "python",
   "name": "python3"
  },
  "language_info": {
   "codemirror_mode": {
    "name": "ipython",
    "version": 3
   },
   "file_extension": ".py",
   "mimetype": "text/x-python",
   "name": "python",
   "nbconvert_exporter": "python",
   "pygments_lexer": "ipython3",
   "version": "3.6.3"
  }
 },
 "nbformat": 4,
 "nbformat_minor": 2
}
