{
 "cells": [
  {
   "cell_type": "markdown",
   "metadata": {
    "colab_type": "text",
    "id": "hLOAKP-gTVmz"
   },
   "source": [
    "### Блок импорта библиотек"
   ]
  },
  {
   "cell_type": "code",
   "execution_count": 1,
   "metadata": {
    "colab": {
     "autoexec": {
      "startup": false,
      "wait_interval": 0
     }
    },
    "colab_type": "code",
    "id": "bbCej3JSTVm1"
   },
   "outputs": [
    {
     "name": "stdout",
     "output_type": "stream",
     "text": [
      "Populating the interactive namespace from numpy and matplotlib\n"
     ]
    }
   ],
   "source": [
    "import pandas as pd\n",
    "from sklearn.linear_model import LogisticRegression #Линейная регрессия\n",
    "from sklearn.tree import DecisionTreeClassifier #Деревья решений\n",
    "from sklearn.neighbors import KNeighborsClassifier #К-ближ. соседей\n",
    "from sklearn.model_selection import train_test_split #модель разбиения данных на тест и обучение\n",
    "from sklearn.preprocessing import StandardScaler, MinMaxScaler,scale #Модель нормализации данных\n",
    "%pylab inline"
   ]
  },
  {
   "cell_type": "code",
   "execution_count": 2,
   "metadata": {
    "colab": {
     "autoexec": {
      "startup": false,
      "wait_interval": 0
     }
    },
    "colab_type": "code",
    "collapsed": true,
    "id": "u-LSHhDuTVm6"
   },
   "outputs": [],
   "source": [
    "#Загрузка данных\n",
    "data=pd.read_csv('movie_metadata.csv', sep=',')"
   ]
  },
  {
   "cell_type": "markdown",
   "metadata": {
    "colab_type": "text",
    "id": "24BTqQFZTVm9"
   },
   "source": [
    "### Первичный просмотр данных"
   ]
  },
  {
   "cell_type": "code",
   "execution_count": 3,
   "metadata": {
    "colab": {
     "autoexec": {
      "startup": false,
      "wait_interval": 0
     }
    },
    "colab_type": "code",
    "id": "ksh6V1zNTVm9",
    "outputId": "e504256d-8ced-4a0f-9df3-35a3634688d9"
   },
   "outputs": [
    {
     "data": {
      "text/html": [
       "<div>\n",
       "<style scoped>\n",
       "    .dataframe tbody tr th:only-of-type {\n",
       "        vertical-align: middle;\n",
       "    }\n",
       "\n",
       "    .dataframe tbody tr th {\n",
       "        vertical-align: top;\n",
       "    }\n",
       "\n",
       "    .dataframe thead th {\n",
       "        text-align: right;\n",
       "    }\n",
       "</style>\n",
       "<table border=\"1\" class=\"dataframe\">\n",
       "  <thead>\n",
       "    <tr style=\"text-align: right;\">\n",
       "      <th></th>\n",
       "      <th>color</th>\n",
       "      <th>director_name</th>\n",
       "      <th>num_critic_for_reviews</th>\n",
       "      <th>duration</th>\n",
       "      <th>director_facebook_likes</th>\n",
       "      <th>actor_3_facebook_likes</th>\n",
       "      <th>actor_2_name</th>\n",
       "      <th>actor_1_facebook_likes</th>\n",
       "      <th>gross</th>\n",
       "      <th>genres</th>\n",
       "      <th>...</th>\n",
       "      <th>num_user_for_reviews</th>\n",
       "      <th>language</th>\n",
       "      <th>country</th>\n",
       "      <th>content_rating</th>\n",
       "      <th>budget</th>\n",
       "      <th>title_year</th>\n",
       "      <th>actor_2_facebook_likes</th>\n",
       "      <th>imdb_score</th>\n",
       "      <th>aspect_ratio</th>\n",
       "      <th>movie_facebook_likes</th>\n",
       "    </tr>\n",
       "  </thead>\n",
       "  <tbody>\n",
       "    <tr>\n",
       "      <th>0</th>\n",
       "      <td>Color</td>\n",
       "      <td>James Cameron</td>\n",
       "      <td>723.0</td>\n",
       "      <td>178.0</td>\n",
       "      <td>0.0</td>\n",
       "      <td>855.0</td>\n",
       "      <td>Joel David Moore</td>\n",
       "      <td>1000.0</td>\n",
       "      <td>760505847.0</td>\n",
       "      <td>Action|Adventure|Fantasy|Sci-Fi</td>\n",
       "      <td>...</td>\n",
       "      <td>3054.0</td>\n",
       "      <td>English</td>\n",
       "      <td>USA</td>\n",
       "      <td>PG-13</td>\n",
       "      <td>237000000.0</td>\n",
       "      <td>2009.0</td>\n",
       "      <td>936.0</td>\n",
       "      <td>7.9</td>\n",
       "      <td>1.78</td>\n",
       "      <td>33000</td>\n",
       "    </tr>\n",
       "    <tr>\n",
       "      <th>1</th>\n",
       "      <td>Color</td>\n",
       "      <td>Gore Verbinski</td>\n",
       "      <td>302.0</td>\n",
       "      <td>169.0</td>\n",
       "      <td>563.0</td>\n",
       "      <td>1000.0</td>\n",
       "      <td>Orlando Bloom</td>\n",
       "      <td>40000.0</td>\n",
       "      <td>309404152.0</td>\n",
       "      <td>Action|Adventure|Fantasy</td>\n",
       "      <td>...</td>\n",
       "      <td>1238.0</td>\n",
       "      <td>English</td>\n",
       "      <td>USA</td>\n",
       "      <td>PG-13</td>\n",
       "      <td>300000000.0</td>\n",
       "      <td>2007.0</td>\n",
       "      <td>5000.0</td>\n",
       "      <td>7.1</td>\n",
       "      <td>2.35</td>\n",
       "      <td>0</td>\n",
       "    </tr>\n",
       "    <tr>\n",
       "      <th>2</th>\n",
       "      <td>Color</td>\n",
       "      <td>Sam Mendes</td>\n",
       "      <td>602.0</td>\n",
       "      <td>148.0</td>\n",
       "      <td>0.0</td>\n",
       "      <td>161.0</td>\n",
       "      <td>Rory Kinnear</td>\n",
       "      <td>11000.0</td>\n",
       "      <td>200074175.0</td>\n",
       "      <td>Action|Adventure|Thriller</td>\n",
       "      <td>...</td>\n",
       "      <td>994.0</td>\n",
       "      <td>English</td>\n",
       "      <td>UK</td>\n",
       "      <td>PG-13</td>\n",
       "      <td>245000000.0</td>\n",
       "      <td>2015.0</td>\n",
       "      <td>393.0</td>\n",
       "      <td>6.8</td>\n",
       "      <td>2.35</td>\n",
       "      <td>85000</td>\n",
       "    </tr>\n",
       "    <tr>\n",
       "      <th>3</th>\n",
       "      <td>Color</td>\n",
       "      <td>Christopher Nolan</td>\n",
       "      <td>813.0</td>\n",
       "      <td>164.0</td>\n",
       "      <td>22000.0</td>\n",
       "      <td>23000.0</td>\n",
       "      <td>Christian Bale</td>\n",
       "      <td>27000.0</td>\n",
       "      <td>448130642.0</td>\n",
       "      <td>Action|Thriller</td>\n",
       "      <td>...</td>\n",
       "      <td>2701.0</td>\n",
       "      <td>English</td>\n",
       "      <td>USA</td>\n",
       "      <td>PG-13</td>\n",
       "      <td>250000000.0</td>\n",
       "      <td>2012.0</td>\n",
       "      <td>23000.0</td>\n",
       "      <td>8.5</td>\n",
       "      <td>2.35</td>\n",
       "      <td>164000</td>\n",
       "    </tr>\n",
       "    <tr>\n",
       "      <th>4</th>\n",
       "      <td>NaN</td>\n",
       "      <td>Doug Walker</td>\n",
       "      <td>NaN</td>\n",
       "      <td>NaN</td>\n",
       "      <td>131.0</td>\n",
       "      <td>NaN</td>\n",
       "      <td>Rob Walker</td>\n",
       "      <td>131.0</td>\n",
       "      <td>NaN</td>\n",
       "      <td>Documentary</td>\n",
       "      <td>...</td>\n",
       "      <td>NaN</td>\n",
       "      <td>NaN</td>\n",
       "      <td>NaN</td>\n",
       "      <td>NaN</td>\n",
       "      <td>NaN</td>\n",
       "      <td>NaN</td>\n",
       "      <td>12.0</td>\n",
       "      <td>7.1</td>\n",
       "      <td>NaN</td>\n",
       "      <td>0</td>\n",
       "    </tr>\n",
       "  </tbody>\n",
       "</table>\n",
       "<p>5 rows × 28 columns</p>\n",
       "</div>"
      ],
      "text/plain": [
       "   color      director_name  num_critic_for_reviews  duration  \\\n",
       "0  Color      James Cameron                   723.0     178.0   \n",
       "1  Color     Gore Verbinski                   302.0     169.0   \n",
       "2  Color         Sam Mendes                   602.0     148.0   \n",
       "3  Color  Christopher Nolan                   813.0     164.0   \n",
       "4    NaN        Doug Walker                     NaN       NaN   \n",
       "\n",
       "   director_facebook_likes  actor_3_facebook_likes      actor_2_name  \\\n",
       "0                      0.0                   855.0  Joel David Moore   \n",
       "1                    563.0                  1000.0     Orlando Bloom   \n",
       "2                      0.0                   161.0      Rory Kinnear   \n",
       "3                  22000.0                 23000.0    Christian Bale   \n",
       "4                    131.0                     NaN        Rob Walker   \n",
       "\n",
       "   actor_1_facebook_likes        gross                           genres  \\\n",
       "0                  1000.0  760505847.0  Action|Adventure|Fantasy|Sci-Fi   \n",
       "1                 40000.0  309404152.0         Action|Adventure|Fantasy   \n",
       "2                 11000.0  200074175.0        Action|Adventure|Thriller   \n",
       "3                 27000.0  448130642.0                  Action|Thriller   \n",
       "4                   131.0          NaN                      Documentary   \n",
       "\n",
       "          ...          num_user_for_reviews language  country  content_rating  \\\n",
       "0         ...                        3054.0  English      USA           PG-13   \n",
       "1         ...                        1238.0  English      USA           PG-13   \n",
       "2         ...                         994.0  English       UK           PG-13   \n",
       "3         ...                        2701.0  English      USA           PG-13   \n",
       "4         ...                           NaN      NaN      NaN             NaN   \n",
       "\n",
       "        budget  title_year actor_2_facebook_likes imdb_score  aspect_ratio  \\\n",
       "0  237000000.0      2009.0                  936.0        7.9          1.78   \n",
       "1  300000000.0      2007.0                 5000.0        7.1          2.35   \n",
       "2  245000000.0      2015.0                  393.0        6.8          2.35   \n",
       "3  250000000.0      2012.0                23000.0        8.5          2.35   \n",
       "4          NaN         NaN                   12.0        7.1           NaN   \n",
       "\n",
       "  movie_facebook_likes  \n",
       "0                33000  \n",
       "1                    0  \n",
       "2                85000  \n",
       "3               164000  \n",
       "4                    0  \n",
       "\n",
       "[5 rows x 28 columns]"
      ]
     },
     "execution_count": 3,
     "metadata": {},
     "output_type": "execute_result"
    }
   ],
   "source": [
    "#Чтобы посмотреть первые N строк данных используем команду\n",
    "data.head()"
   ]
  },
  {
   "cell_type": "code",
   "execution_count": 45,
   "metadata": {
    "colab": {
     "autoexec": {
      "startup": false,
      "wait_interval": 0
     }
    },
    "colab_type": "code",
    "id": "9cbOJLa9TVnA",
    "outputId": "2bcc5c93-be93-44c3-f19f-d37cfec901de"
   },
   "outputs": [
    {
     "name": "stdout",
     "output_type": "stream",
     "text": [
      "<class 'pandas.core.frame.DataFrame'>\n",
      "RangeIndex: 5043 entries, 0 to 5042\n",
      "Data columns (total 28 columns):\n",
      "color                        5024 non-null object\n",
      "director_name                4939 non-null object\n",
      "num_critic_for_reviews       4993 non-null float64\n",
      "duration                     5028 non-null float64\n",
      "director_facebook_likes      4939 non-null float64\n",
      "actor_3_facebook_likes       5020 non-null float64\n",
      "actor_2_name                 5030 non-null object\n",
      "actor_1_facebook_likes       5036 non-null float64\n",
      "gross                        4159 non-null float64\n",
      "genres                       5043 non-null object\n",
      "actor_1_name                 5036 non-null object\n",
      "movie_title                  5043 non-null object\n",
      "num_voted_users              5043 non-null int64\n",
      "cast_total_facebook_likes    5043 non-null int64\n",
      "actor_3_name                 5020 non-null object\n",
      "facenumber_in_poster         5030 non-null float64\n",
      "plot_keywords                4890 non-null object\n",
      "movie_imdb_link              5043 non-null object\n",
      "num_user_for_reviews         5022 non-null float64\n",
      "language                     5031 non-null object\n",
      "country                      5038 non-null object\n",
      "content_rating               4740 non-null object\n",
      "budget                       4551 non-null float64\n",
      "title_year                   4935 non-null float64\n",
      "actor_2_facebook_likes       5030 non-null float64\n",
      "imdb_score                   5043 non-null float64\n",
      "aspect_ratio                 4714 non-null float64\n",
      "movie_facebook_likes         5043 non-null int64\n",
      "dtypes: float64(13), int64(3), object(12)\n",
      "memory usage: 1.1+ MB\n"
     ]
    }
   ],
   "source": [
    "#Информация о составе колонок и их типе, числе заполненных записей.\n",
    "data.info()"
   ]
  },
  {
   "cell_type": "markdown",
   "metadata": {
    "colab_type": "text",
    "id": "KXm94SxiTVnD"
   },
   "source": [
    "### Предобработка данных"
   ]
  },
  {
   "cell_type": "code",
   "execution_count": 4,
   "metadata": {
    "colab": {
     "autoexec": {
      "startup": false,
      "wait_interval": 0
     }
    },
    "colab_type": "code",
    "id": "zGmjY46GTVnD",
    "outputId": "582aab82-851e-4fbe-8d40-b0ac19be369d"
   },
   "outputs": [
    {
     "name": "stdout",
     "output_type": "stream",
     "text": [
      "color\n",
      "director_name\n",
      "num_critic_for_reviews\n",
      "duration\n",
      "director_facebook_likes\n",
      "actor_3_facebook_likes\n",
      "actor_2_name\n",
      "actor_1_facebook_likes\n",
      "gross\n",
      "genres\n",
      "actor_1_name\n",
      "movie_title\n",
      "num_voted_users\n",
      "cast_total_facebook_likes\n",
      "actor_3_name\n",
      "facenumber_in_poster\n",
      "plot_keywords\n",
      "movie_imdb_link\n",
      "num_user_for_reviews\n",
      "language\n",
      "country\n",
      "content_rating\n",
      "budget\n",
      "title_year\n",
      "actor_2_facebook_likes\n",
      "imdb_score\n",
      "aspect_ratio\n",
      "movie_facebook_likes\n"
     ]
    }
   ],
   "source": [
    "\"\"\"Выделим имена колонок для этого воспользуемся циклом FOR\"\"\"\n",
    "for i in data.columns:\n",
    "    print(i)"
   ]
  },
  {
   "cell_type": "code",
   "execution_count": 5,
   "metadata": {},
   "outputs": [
    {
     "name": "stdout",
     "output_type": "stream",
     "text": [
      "<class 'pandas.core.frame.DataFrame'>\n",
      "RangeIndex: 5043 entries, 0 to 5042\n",
      "Data columns (total 28 columns):\n",
      "color                        5024 non-null object\n",
      "director_name                4939 non-null object\n",
      "num_critic_for_reviews       4993 non-null float64\n",
      "duration                     5028 non-null float64\n",
      "director_facebook_likes      4939 non-null float64\n",
      "actor_3_facebook_likes       5020 non-null float64\n",
      "actor_2_name                 5030 non-null object\n",
      "actor_1_facebook_likes       5036 non-null float64\n",
      "gross                        4159 non-null float64\n",
      "genres                       5043 non-null object\n",
      "actor_1_name                 5036 non-null object\n",
      "movie_title                  5043 non-null object\n",
      "num_voted_users              5043 non-null int64\n",
      "cast_total_facebook_likes    5043 non-null int64\n",
      "actor_3_name                 5020 non-null object\n",
      "facenumber_in_poster         5030 non-null float64\n",
      "plot_keywords                4890 non-null object\n",
      "movie_imdb_link              5043 non-null object\n",
      "num_user_for_reviews         5022 non-null float64\n",
      "language                     5031 non-null object\n",
      "country                      5038 non-null object\n",
      "content_rating               4740 non-null object\n",
      "budget                       4551 non-null float64\n",
      "title_year                   4935 non-null float64\n",
      "actor_2_facebook_likes       5030 non-null float64\n",
      "imdb_score                   5043 non-null float64\n",
      "aspect_ratio                 4714 non-null float64\n",
      "movie_facebook_likes         5043 non-null int64\n",
      "dtypes: float64(13), int64(3), object(12)\n",
      "memory usage: 1.1+ MB\n"
     ]
    }
   ],
   "source": [
    "data.info()"
   ]
  },
  {
   "cell_type": "code",
   "execution_count": 23,
   "metadata": {},
   "outputs": [
    {
     "data": {
      "text/plain": [
       "count      5043.000000\n",
       "mean       7525.964505\n",
       "std       19320.445110\n",
       "min           0.000000\n",
       "25%           0.000000\n",
       "50%         166.000000\n",
       "75%        3000.000000\n",
       "max      349000.000000\n",
       "Name: movie_facebook_likes, dtype: float64"
      ]
     },
     "execution_count": 23,
     "metadata": {},
     "output_type": "execute_result"
    }
   ],
   "source": [
    "data['movie_facebook_likes'].describe() #Посмотрим на распределение значений числа лайков"
   ]
  },
  {
   "cell_type": "code",
   "execution_count": 85,
   "metadata": {
    "collapsed": true
   },
   "outputs": [],
   "source": [
    "data['is_popular']=data['movie_facebook_likes'].map(lambda x:1 if x>0 else 0)"
   ]
  },
  {
   "cell_type": "code",
   "execution_count": 86,
   "metadata": {},
   "outputs": [
    {
     "data": {
      "text/plain": [
       "<matplotlib.axes._subplots.AxesSubplot at 0x1de40c94710>"
      ]
     },
     "execution_count": 86,
     "metadata": {},
     "output_type": "execute_result"
    },
    {
     "data": {
      "image/png": "[encoded data removed]",
      "text/plain": [
       "<matplotlib.figure.Figure at 0x1de3fae2978>"
      ]
     },
     "metadata": {},
     "output_type": "display_data"
    }
   ],
   "source": [
    "data['is_popular'].hist()"
   ]
  },
  {
   "cell_type": "code",
   "execution_count": 87,
   "metadata": {
    "colab": {
     "autoexec": {
      "startup": false,
      "wait_interval": 0
     }
    },
    "colab_type": "code",
    "collapsed": true,
    "id": "UO63gaHNTVnH"
   },
   "outputs": [],
   "source": [
    "\"\"\"Выберем в качестве целевой переменной число лайков в фейсбук к фильму (т.е. популярность фильма в соц.сетях)\"\"\"\n",
    "target_col=['movie_facebook_likes', 'is_popular']"
   ]
  },
  {
   "cell_type": "code",
   "execution_count": 88,
   "metadata": {
    "colab": {
     "autoexec": {
      "startup": false,
      "wait_interval": 0
     }
    },
    "colab_type": "code",
    "id": "PqgBOBYMTVnM",
    "outputId": "adfd8612-1529-4790-f6ff-0a23d1d40eda"
   },
   "outputs": [
    {
     "data": {
      "text/plain": [
       "color                                                                    Color\n",
       "director_name                                                    James Cameron\n",
       "num_critic_for_reviews                                                     723\n",
       "duration                                                                   178\n",
       "director_facebook_likes                                                      0\n",
       "actor_3_facebook_likes                                                     855\n",
       "actor_2_name                                                  Joel David Moore\n",
       "actor_1_facebook_likes                                                    1000\n",
       "gross                                                              7.60506e+08\n",
       "genres                                         Action|Adventure|Fantasy|Sci-Fi\n",
       "actor_1_name                                                       CCH Pounder\n",
       "movie_title                                                            Avatar \n",
       "num_voted_users                                                         886204\n",
       "cast_total_facebook_likes                                                 4834\n",
       "actor_3_name                                                         Wes Studi\n",
       "facenumber_in_poster                                                         0\n",
       "plot_keywords                           avatar|future|marine|native|paraplegic\n",
       "movie_imdb_link              http://www.imdb.com/title/tt0499549/?ref_=fn_t...\n",
       "num_user_for_reviews                                                      3054\n",
       "language                                                               English\n",
       "country                                                                    USA\n",
       "content_rating                                                           PG-13\n",
       "budget                                                                2.37e+08\n",
       "title_year                                                                2009\n",
       "actor_2_facebook_likes                                                     936\n",
       "imdb_score                                                                 7.9\n",
       "aspect_ratio                                                              1.78\n",
       "movie_facebook_likes                                                     33000\n",
       "is_popular                                                                   1\n",
       "Name: 0, dtype: object"
      ]
     },
     "execution_count": 88,
     "metadata": {},
     "output_type": "execute_result"
    }
   ],
   "source": [
    "data[target_col].iloc[:1]\n",
    "data.iloc[0][1]\n",
    "data.iloc[0, :]\n",
    "\n"
   ]
  },
  {
   "cell_type": "code",
   "execution_count": 30,
   "metadata": {
    "colab": {
     "autoexec": {
      "startup": false,
      "wait_interval": 0
     }
    },
    "colab_type": "code",
    "collapsed": true,
    "id": "sFkE0cq8TVnO"
   },
   "outputs": [],
   "source": [
    "\"\"\"Выделим только вещественные и целые признаки  для простоты, воспользуясь list_comprehension\"\"\"\n",
    "float_col=[col for col in data.columns if data[col].dtypes!=object and col not in target_col]"
   ]
  },
  {
   "cell_type": "code",
   "execution_count": 31,
   "metadata": {
    "colab": {
     "autoexec": {
      "startup": false,
      "wait_interval": 0
     }
    },
    "colab_type": "code",
    "id": "E91fXN0cTVnQ",
    "outputId": "72374bcd-f3dc-4478-9f38-1c82b8e130b7"
   },
   "outputs": [
    {
     "data": {
      "text/plain": [
       "['num_critic_for_reviews',\n",
       " 'duration',\n",
       " 'director_facebook_likes',\n",
       " 'actor_3_facebook_likes',\n",
       " 'actor_1_facebook_likes',\n",
       " 'gross',\n",
       " 'num_voted_users',\n",
       " 'cast_total_facebook_likes',\n",
       " 'facenumber_in_poster',\n",
       " 'num_user_for_reviews',\n",
       " 'budget',\n",
       " 'title_year',\n",
       " 'actor_2_facebook_likes',\n",
       " 'imdb_score',\n",
       " 'aspect_ratio']"
      ]
     },
     "execution_count": 31,
     "metadata": {},
     "output_type": "execute_result"
    }
   ],
   "source": [
    "float_col"
   ]
  },
  {
   "cell_type": "code",
   "execution_count": 32,
   "metadata": {
    "colab": {
     "autoexec": {
      "startup": false,
      "wait_interval": 0
     }
    },
    "colab_type": "code",
    "id": "6Xl4wSwCTVnT",
    "outputId": "8602379b-bac2-42f6-d36e-76986b61a8a7",
    "scrolled": true
   },
   "outputs": [
    {
     "data": {
      "text/html": [
       "<div>\n",
       "<style scoped>\n",
       "    .dataframe tbody tr th:only-of-type {\n",
       "        vertical-align: middle;\n",
       "    }\n",
       "\n",
       "    .dataframe tbody tr th {\n",
       "        vertical-align: top;\n",
       "    }\n",
       "\n",
       "    .dataframe thead th {\n",
       "        text-align: right;\n",
       "    }\n",
       "</style>\n",
       "<table border=\"1\" class=\"dataframe\">\n",
       "  <thead>\n",
       "    <tr style=\"text-align: right;\">\n",
       "      <th></th>\n",
       "      <th>num_critic_for_reviews</th>\n",
       "      <th>duration</th>\n",
       "      <th>director_facebook_likes</th>\n",
       "      <th>actor_3_facebook_likes</th>\n",
       "      <th>actor_1_facebook_likes</th>\n",
       "      <th>gross</th>\n",
       "      <th>num_voted_users</th>\n",
       "      <th>cast_total_facebook_likes</th>\n",
       "      <th>facenumber_in_poster</th>\n",
       "      <th>num_user_for_reviews</th>\n",
       "      <th>budget</th>\n",
       "      <th>title_year</th>\n",
       "      <th>actor_2_facebook_likes</th>\n",
       "      <th>imdb_score</th>\n",
       "      <th>aspect_ratio</th>\n",
       "    </tr>\n",
       "  </thead>\n",
       "  <tbody>\n",
       "    <tr>\n",
       "      <th>0</th>\n",
       "      <td>723.0</td>\n",
       "      <td>178.0</td>\n",
       "      <td>0.0</td>\n",
       "      <td>855.0</td>\n",
       "      <td>1000.0</td>\n",
       "      <td>760505847.0</td>\n",
       "      <td>886204</td>\n",
       "      <td>4834</td>\n",
       "      <td>0.0</td>\n",
       "      <td>3054.0</td>\n",
       "      <td>237000000.0</td>\n",
       "      <td>2009.0</td>\n",
       "      <td>936.0</td>\n",
       "      <td>7.9</td>\n",
       "      <td>1.78</td>\n",
       "    </tr>\n",
       "    <tr>\n",
       "      <th>1</th>\n",
       "      <td>302.0</td>\n",
       "      <td>169.0</td>\n",
       "      <td>563.0</td>\n",
       "      <td>1000.0</td>\n",
       "      <td>40000.0</td>\n",
       "      <td>309404152.0</td>\n",
       "      <td>471220</td>\n",
       "      <td>48350</td>\n",
       "      <td>0.0</td>\n",
       "      <td>1238.0</td>\n",
       "      <td>300000000.0</td>\n",
       "      <td>2007.0</td>\n",
       "      <td>5000.0</td>\n",
       "      <td>7.1</td>\n",
       "      <td>2.35</td>\n",
       "    </tr>\n",
       "    <tr>\n",
       "      <th>2</th>\n",
       "      <td>602.0</td>\n",
       "      <td>148.0</td>\n",
       "      <td>0.0</td>\n",
       "      <td>161.0</td>\n",
       "      <td>11000.0</td>\n",
       "      <td>200074175.0</td>\n",
       "      <td>275868</td>\n",
       "      <td>11700</td>\n",
       "      <td>1.0</td>\n",
       "      <td>994.0</td>\n",
       "      <td>245000000.0</td>\n",
       "      <td>2015.0</td>\n",
       "      <td>393.0</td>\n",
       "      <td>6.8</td>\n",
       "      <td>2.35</td>\n",
       "    </tr>\n",
       "    <tr>\n",
       "      <th>3</th>\n",
       "      <td>813.0</td>\n",
       "      <td>164.0</td>\n",
       "      <td>22000.0</td>\n",
       "      <td>23000.0</td>\n",
       "      <td>27000.0</td>\n",
       "      <td>448130642.0</td>\n",
       "      <td>1144337</td>\n",
       "      <td>106759</td>\n",
       "      <td>0.0</td>\n",
       "      <td>2701.0</td>\n",
       "      <td>250000000.0</td>\n",
       "      <td>2012.0</td>\n",
       "      <td>23000.0</td>\n",
       "      <td>8.5</td>\n",
       "      <td>2.35</td>\n",
       "    </tr>\n",
       "    <tr>\n",
       "      <th>5</th>\n",
       "      <td>462.0</td>\n",
       "      <td>132.0</td>\n",
       "      <td>475.0</td>\n",
       "      <td>530.0</td>\n",
       "      <td>640.0</td>\n",
       "      <td>73058679.0</td>\n",
       "      <td>212204</td>\n",
       "      <td>1873</td>\n",
       "      <td>1.0</td>\n",
       "      <td>738.0</td>\n",
       "      <td>263700000.0</td>\n",
       "      <td>2012.0</td>\n",
       "      <td>632.0</td>\n",
       "      <td>6.6</td>\n",
       "      <td>2.35</td>\n",
       "    </tr>\n",
       "    <tr>\n",
       "      <th>6</th>\n",
       "      <td>392.0</td>\n",
       "      <td>156.0</td>\n",
       "      <td>0.0</td>\n",
       "      <td>4000.0</td>\n",
       "      <td>24000.0</td>\n",
       "      <td>336530303.0</td>\n",
       "      <td>383056</td>\n",
       "      <td>46055</td>\n",
       "      <td>0.0</td>\n",
       "      <td>1902.0</td>\n",
       "      <td>258000000.0</td>\n",
       "      <td>2007.0</td>\n",
       "      <td>11000.0</td>\n",
       "      <td>6.2</td>\n",
       "      <td>2.35</td>\n",
       "    </tr>\n",
       "    <tr>\n",
       "      <th>7</th>\n",
       "      <td>324.0</td>\n",
       "      <td>100.0</td>\n",
       "      <td>15.0</td>\n",
       "      <td>284.0</td>\n",
       "      <td>799.0</td>\n",
       "      <td>200807262.0</td>\n",
       "      <td>294810</td>\n",
       "      <td>2036</td>\n",
       "      <td>1.0</td>\n",
       "      <td>387.0</td>\n",
       "      <td>260000000.0</td>\n",
       "      <td>2010.0</td>\n",
       "      <td>553.0</td>\n",
       "      <td>7.8</td>\n",
       "      <td>1.85</td>\n",
       "    </tr>\n",
       "    <tr>\n",
       "      <th>8</th>\n",
       "      <td>635.0</td>\n",
       "      <td>141.0</td>\n",
       "      <td>0.0</td>\n",
       "      <td>19000.0</td>\n",
       "      <td>26000.0</td>\n",
       "      <td>458991599.0</td>\n",
       "      <td>462669</td>\n",
       "      <td>92000</td>\n",
       "      <td>4.0</td>\n",
       "      <td>1117.0</td>\n",
       "      <td>250000000.0</td>\n",
       "      <td>2015.0</td>\n",
       "      <td>21000.0</td>\n",
       "      <td>7.5</td>\n",
       "      <td>2.35</td>\n",
       "    </tr>\n",
       "    <tr>\n",
       "      <th>9</th>\n",
       "      <td>375.0</td>\n",
       "      <td>153.0</td>\n",
       "      <td>282.0</td>\n",
       "      <td>10000.0</td>\n",
       "      <td>25000.0</td>\n",
       "      <td>301956980.0</td>\n",
       "      <td>321795</td>\n",
       "      <td>58753</td>\n",
       "      <td>3.0</td>\n",
       "      <td>973.0</td>\n",
       "      <td>250000000.0</td>\n",
       "      <td>2009.0</td>\n",
       "      <td>11000.0</td>\n",
       "      <td>7.5</td>\n",
       "      <td>2.35</td>\n",
       "    </tr>\n",
       "    <tr>\n",
       "      <th>10</th>\n",
       "      <td>673.0</td>\n",
       "      <td>183.0</td>\n",
       "      <td>0.0</td>\n",
       "      <td>2000.0</td>\n",
       "      <td>15000.0</td>\n",
       "      <td>330249062.0</td>\n",
       "      <td>371639</td>\n",
       "      <td>24450</td>\n",
       "      <td>0.0</td>\n",
       "      <td>3018.0</td>\n",
       "      <td>250000000.0</td>\n",
       "      <td>2016.0</td>\n",
       "      <td>4000.0</td>\n",
       "      <td>6.9</td>\n",
       "      <td>2.35</td>\n",
       "    </tr>\n",
       "    <tr>\n",
       "      <th>11</th>\n",
       "      <td>434.0</td>\n",
       "      <td>169.0</td>\n",
       "      <td>0.0</td>\n",
       "      <td>903.0</td>\n",
       "      <td>18000.0</td>\n",
       "      <td>200069408.0</td>\n",
       "      <td>240396</td>\n",
       "      <td>29991</td>\n",
       "      <td>0.0</td>\n",
       "      <td>2367.0</td>\n",
       "      <td>209000000.0</td>\n",
       "      <td>2006.0</td>\n",
       "      <td>10000.0</td>\n",
       "      <td>6.1</td>\n",
       "      <td>2.35</td>\n",
       "    </tr>\n",
       "    <tr>\n",
       "      <th>12</th>\n",
       "      <td>403.0</td>\n",
       "      <td>106.0</td>\n",
       "      <td>395.0</td>\n",
       "      <td>393.0</td>\n",
       "      <td>451.0</td>\n",
       "      <td>168368427.0</td>\n",
       "      <td>330784</td>\n",
       "      <td>2023</td>\n",
       "      <td>1.0</td>\n",
       "      <td>1243.0</td>\n",
       "      <td>200000000.0</td>\n",
       "      <td>2008.0</td>\n",
       "      <td>412.0</td>\n",
       "      <td>6.7</td>\n",
       "      <td>2.35</td>\n",
       "    </tr>\n",
       "    <tr>\n",
       "      <th>13</th>\n",
       "      <td>313.0</td>\n",
       "      <td>151.0</td>\n",
       "      <td>563.0</td>\n",
       "      <td>1000.0</td>\n",
       "      <td>40000.0</td>\n",
       "      <td>423032628.0</td>\n",
       "      <td>522040</td>\n",
       "      <td>48486</td>\n",
       "      <td>2.0</td>\n",
       "      <td>1832.0</td>\n",
       "      <td>225000000.0</td>\n",
       "      <td>2006.0</td>\n",
       "      <td>5000.0</td>\n",
       "      <td>7.3</td>\n",
       "      <td>2.35</td>\n",
       "    </tr>\n",
       "    <tr>\n",
       "      <th>14</th>\n",
       "      <td>450.0</td>\n",
       "      <td>150.0</td>\n",
       "      <td>563.0</td>\n",
       "      <td>1000.0</td>\n",
       "      <td>40000.0</td>\n",
       "      <td>89289910.0</td>\n",
       "      <td>181792</td>\n",
       "      <td>45757</td>\n",
       "      <td>1.0</td>\n",
       "      <td>711.0</td>\n",
       "      <td>215000000.0</td>\n",
       "      <td>2013.0</td>\n",
       "      <td>2000.0</td>\n",
       "      <td>6.5</td>\n",
       "      <td>2.35</td>\n",
       "    </tr>\n",
       "    <tr>\n",
       "      <th>15</th>\n",
       "      <td>733.0</td>\n",
       "      <td>143.0</td>\n",
       "      <td>0.0</td>\n",
       "      <td>748.0</td>\n",
       "      <td>15000.0</td>\n",
       "      <td>291021565.0</td>\n",
       "      <td>548573</td>\n",
       "      <td>20495</td>\n",
       "      <td>0.0</td>\n",
       "      <td>2536.0</td>\n",
       "      <td>225000000.0</td>\n",
       "      <td>2013.0</td>\n",
       "      <td>3000.0</td>\n",
       "      <td>7.2</td>\n",
       "      <td>2.35</td>\n",
       "    </tr>\n",
       "    <tr>\n",
       "      <th>16</th>\n",
       "      <td>258.0</td>\n",
       "      <td>150.0</td>\n",
       "      <td>80.0</td>\n",
       "      <td>201.0</td>\n",
       "      <td>22000.0</td>\n",
       "      <td>141614023.0</td>\n",
       "      <td>149922</td>\n",
       "      <td>22697</td>\n",
       "      <td>4.0</td>\n",
       "      <td>438.0</td>\n",
       "      <td>225000000.0</td>\n",
       "      <td>2008.0</td>\n",
       "      <td>216.0</td>\n",
       "      <td>6.6</td>\n",
       "      <td>2.35</td>\n",
       "    </tr>\n",
       "    <tr>\n",
       "      <th>17</th>\n",
       "      <td>703.0</td>\n",
       "      <td>173.0</td>\n",
       "      <td>0.0</td>\n",
       "      <td>19000.0</td>\n",
       "      <td>26000.0</td>\n",
       "      <td>623279547.0</td>\n",
       "      <td>995415</td>\n",
       "      <td>87697</td>\n",
       "      <td>3.0</td>\n",
       "      <td>1722.0</td>\n",
       "      <td>220000000.0</td>\n",
       "      <td>2012.0</td>\n",
       "      <td>21000.0</td>\n",
       "      <td>8.1</td>\n",
       "      <td>1.85</td>\n",
       "    </tr>\n",
       "    <tr>\n",
       "      <th>18</th>\n",
       "      <td>448.0</td>\n",
       "      <td>136.0</td>\n",
       "      <td>252.0</td>\n",
       "      <td>1000.0</td>\n",
       "      <td>40000.0</td>\n",
       "      <td>241063875.0</td>\n",
       "      <td>370704</td>\n",
       "      <td>54083</td>\n",
       "      <td>4.0</td>\n",
       "      <td>484.0</td>\n",
       "      <td>250000000.0</td>\n",
       "      <td>2011.0</td>\n",
       "      <td>11000.0</td>\n",
       "      <td>6.7</td>\n",
       "      <td>2.35</td>\n",
       "    </tr>\n",
       "    <tr>\n",
       "      <th>19</th>\n",
       "      <td>451.0</td>\n",
       "      <td>106.0</td>\n",
       "      <td>188.0</td>\n",
       "      <td>718.0</td>\n",
       "      <td>10000.0</td>\n",
       "      <td>179020854.0</td>\n",
       "      <td>268154</td>\n",
       "      <td>12572</td>\n",
       "      <td>1.0</td>\n",
       "      <td>341.0</td>\n",
       "      <td>225000000.0</td>\n",
       "      <td>2012.0</td>\n",
       "      <td>816.0</td>\n",
       "      <td>6.8</td>\n",
       "      <td>1.85</td>\n",
       "    </tr>\n",
       "    <tr>\n",
       "      <th>20</th>\n",
       "      <td>422.0</td>\n",
       "      <td>164.0</td>\n",
       "      <td>0.0</td>\n",
       "      <td>773.0</td>\n",
       "      <td>5000.0</td>\n",
       "      <td>255108370.0</td>\n",
       "      <td>354228</td>\n",
       "      <td>9152</td>\n",
       "      <td>0.0</td>\n",
       "      <td>802.0</td>\n",
       "      <td>250000000.0</td>\n",
       "      <td>2014.0</td>\n",
       "      <td>972.0</td>\n",
       "      <td>7.5</td>\n",
       "      <td>2.35</td>\n",
       "    </tr>\n",
       "    <tr>\n",
       "      <th>21</th>\n",
       "      <td>599.0</td>\n",
       "      <td>153.0</td>\n",
       "      <td>464.0</td>\n",
       "      <td>963.0</td>\n",
       "      <td>15000.0</td>\n",
       "      <td>262030663.0</td>\n",
       "      <td>451803</td>\n",
       "      <td>28489</td>\n",
       "      <td>0.0</td>\n",
       "      <td>1225.0</td>\n",
       "      <td>230000000.0</td>\n",
       "      <td>2012.0</td>\n",
       "      <td>10000.0</td>\n",
       "      <td>7.0</td>\n",
       "      <td>2.35</td>\n",
       "    </tr>\n",
       "    <tr>\n",
       "      <th>22</th>\n",
       "      <td>343.0</td>\n",
       "      <td>156.0</td>\n",
       "      <td>0.0</td>\n",
       "      <td>738.0</td>\n",
       "      <td>891.0</td>\n",
       "      <td>105219735.0</td>\n",
       "      <td>211765</td>\n",
       "      <td>3244</td>\n",
       "      <td>0.0</td>\n",
       "      <td>546.0</td>\n",
       "      <td>200000000.0</td>\n",
       "      <td>2010.0</td>\n",
       "      <td>882.0</td>\n",
       "      <td>6.7</td>\n",
       "      <td>2.35</td>\n",
       "    </tr>\n",
       "    <tr>\n",
       "      <th>23</th>\n",
       "      <td>509.0</td>\n",
       "      <td>186.0</td>\n",
       "      <td>0.0</td>\n",
       "      <td>773.0</td>\n",
       "      <td>5000.0</td>\n",
       "      <td>258355354.0</td>\n",
       "      <td>483540</td>\n",
       "      <td>9152</td>\n",
       "      <td>6.0</td>\n",
       "      <td>951.0</td>\n",
       "      <td>225000000.0</td>\n",
       "      <td>2013.0</td>\n",
       "      <td>972.0</td>\n",
       "      <td>7.9</td>\n",
       "      <td>2.35</td>\n",
       "    </tr>\n",
       "    <tr>\n",
       "      <th>24</th>\n",
       "      <td>251.0</td>\n",
       "      <td>113.0</td>\n",
       "      <td>129.0</td>\n",
       "      <td>1000.0</td>\n",
       "      <td>16000.0</td>\n",
       "      <td>70083519.0</td>\n",
       "      <td>149019</td>\n",
       "      <td>24106</td>\n",
       "      <td>2.0</td>\n",
       "      <td>666.0</td>\n",
       "      <td>180000000.0</td>\n",
       "      <td>2007.0</td>\n",
       "      <td>6000.0</td>\n",
       "      <td>6.1</td>\n",
       "      <td>2.35</td>\n",
       "    </tr>\n",
       "    <tr>\n",
       "      <th>25</th>\n",
       "      <td>446.0</td>\n",
       "      <td>201.0</td>\n",
       "      <td>0.0</td>\n",
       "      <td>84.0</td>\n",
       "      <td>6000.0</td>\n",
       "      <td>218051260.0</td>\n",
       "      <td>316018</td>\n",
       "      <td>7123</td>\n",
       "      <td>0.0</td>\n",
       "      <td>2618.0</td>\n",
       "      <td>207000000.0</td>\n",
       "      <td>2005.0</td>\n",
       "      <td>919.0</td>\n",
       "      <td>7.2</td>\n",
       "      <td>2.35</td>\n",
       "    </tr>\n",
       "    <tr>\n",
       "      <th>26</th>\n",
       "      <td>315.0</td>\n",
       "      <td>194.0</td>\n",
       "      <td>0.0</td>\n",
       "      <td>794.0</td>\n",
       "      <td>29000.0</td>\n",
       "      <td>658672302.0</td>\n",
       "      <td>793059</td>\n",
       "      <td>45223</td>\n",
       "      <td>0.0</td>\n",
       "      <td>2528.0</td>\n",
       "      <td>200000000.0</td>\n",
       "      <td>1997.0</td>\n",
       "      <td>14000.0</td>\n",
       "      <td>7.7</td>\n",
       "      <td>2.35</td>\n",
       "    </tr>\n",
       "    <tr>\n",
       "      <th>27</th>\n",
       "      <td>516.0</td>\n",
       "      <td>147.0</td>\n",
       "      <td>94.0</td>\n",
       "      <td>11000.0</td>\n",
       "      <td>21000.0</td>\n",
       "      <td>407197282.0</td>\n",
       "      <td>272670</td>\n",
       "      <td>64798</td>\n",
       "      <td>0.0</td>\n",
       "      <td>1022.0</td>\n",
       "      <td>250000000.0</td>\n",
       "      <td>2016.0</td>\n",
       "      <td>19000.0</td>\n",
       "      <td>8.2</td>\n",
       "      <td>2.35</td>\n",
       "    </tr>\n",
       "    <tr>\n",
       "      <th>28</th>\n",
       "      <td>377.0</td>\n",
       "      <td>131.0</td>\n",
       "      <td>532.0</td>\n",
       "      <td>627.0</td>\n",
       "      <td>14000.0</td>\n",
       "      <td>65173160.0</td>\n",
       "      <td>202382</td>\n",
       "      <td>26679</td>\n",
       "      <td>0.0</td>\n",
       "      <td>751.0</td>\n",
       "      <td>209000000.0</td>\n",
       "      <td>2012.0</td>\n",
       "      <td>10000.0</td>\n",
       "      <td>5.9</td>\n",
       "      <td>2.35</td>\n",
       "    </tr>\n",
       "    <tr>\n",
       "      <th>29</th>\n",
       "      <td>644.0</td>\n",
       "      <td>124.0</td>\n",
       "      <td>365.0</td>\n",
       "      <td>1000.0</td>\n",
       "      <td>3000.0</td>\n",
       "      <td>652177271.0</td>\n",
       "      <td>418214</td>\n",
       "      <td>8458</td>\n",
       "      <td>0.0</td>\n",
       "      <td>1290.0</td>\n",
       "      <td>150000000.0</td>\n",
       "      <td>2015.0</td>\n",
       "      <td>2000.0</td>\n",
       "      <td>7.0</td>\n",
       "      <td>2.00</td>\n",
       "    </tr>\n",
       "    <tr>\n",
       "      <th>30</th>\n",
       "      <td>750.0</td>\n",
       "      <td>143.0</td>\n",
       "      <td>0.0</td>\n",
       "      <td>393.0</td>\n",
       "      <td>883.0</td>\n",
       "      <td>304360277.0</td>\n",
       "      <td>522030</td>\n",
       "      <td>2039</td>\n",
       "      <td>0.0</td>\n",
       "      <td>1498.0</td>\n",
       "      <td>200000000.0</td>\n",
       "      <td>2012.0</td>\n",
       "      <td>563.0</td>\n",
       "      <td>7.8</td>\n",
       "      <td>2.35</td>\n",
       "    </tr>\n",
       "    <tr>\n",
       "      <th>...</th>\n",
       "      <td>...</td>\n",
       "      <td>...</td>\n",
       "      <td>...</td>\n",
       "      <td>...</td>\n",
       "      <td>...</td>\n",
       "      <td>...</td>\n",
       "      <td>...</td>\n",
       "      <td>...</td>\n",
       "      <td>...</td>\n",
       "      <td>...</td>\n",
       "      <td>...</td>\n",
       "      <td>...</td>\n",
       "      <td>...</td>\n",
       "      <td>...</td>\n",
       "      <td>...</td>\n",
       "    </tr>\n",
       "    <tr>\n",
       "      <th>4974</th>\n",
       "      <td>5.0</td>\n",
       "      <td>86.0</td>\n",
       "      <td>12.0</td>\n",
       "      <td>117.0</td>\n",
       "      <td>238.0</td>\n",
       "      <td>33598.0</td>\n",
       "      <td>405</td>\n",
       "      <td>623</td>\n",
       "      <td>1.0</td>\n",
       "      <td>15.0</td>\n",
       "      <td>NaN</td>\n",
       "      <td>1997.0</td>\n",
       "      <td>166.0</td>\n",
       "      <td>5.4</td>\n",
       "      <td>NaN</td>\n",
       "    </tr>\n",
       "    <tr>\n",
       "      <th>4975</th>\n",
       "      <td>32.0</td>\n",
       "      <td>87.0</td>\n",
       "      <td>0.0</td>\n",
       "      <td>153.0</td>\n",
       "      <td>1000.0</td>\n",
       "      <td>536767.0</td>\n",
       "      <td>1622</td>\n",
       "      <td>1362</td>\n",
       "      <td>0.0</td>\n",
       "      <td>83.0</td>\n",
       "      <td>60000.0</td>\n",
       "      <td>1998.0</td>\n",
       "      <td>184.0</td>\n",
       "      <td>5.3</td>\n",
       "      <td>1.85</td>\n",
       "    </tr>\n",
       "    <tr>\n",
       "      <th>4977</th>\n",
       "      <td>193.0</td>\n",
       "      <td>100.0</td>\n",
       "      <td>293.0</td>\n",
       "      <td>0.0</td>\n",
       "      <td>0.0</td>\n",
       "      <td>11529368.0</td>\n",
       "      <td>85028</td>\n",
       "      <td>0</td>\n",
       "      <td>2.0</td>\n",
       "      <td>404.0</td>\n",
       "      <td>65000.0</td>\n",
       "      <td>2004.0</td>\n",
       "      <td>0.0</td>\n",
       "      <td>7.3</td>\n",
       "      <td>1.78</td>\n",
       "    </tr>\n",
       "    <tr>\n",
       "      <th>4978</th>\n",
       "      <td>66.0</td>\n",
       "      <td>82.0</td>\n",
       "      <td>32.0</td>\n",
       "      <td>128.0</td>\n",
       "      <td>968.0</td>\n",
       "      <td>40557.0</td>\n",
       "      <td>1389</td>\n",
       "      <td>2046</td>\n",
       "      <td>0.0</td>\n",
       "      <td>22.0</td>\n",
       "      <td>60000.0</td>\n",
       "      <td>2011.0</td>\n",
       "      <td>407.0</td>\n",
       "      <td>5.6</td>\n",
       "      <td>2.35</td>\n",
       "    </tr>\n",
       "    <tr>\n",
       "      <th>4979</th>\n",
       "      <td>65.0</td>\n",
       "      <td>82.0</td>\n",
       "      <td>217.0</td>\n",
       "      <td>442.0</td>\n",
       "      <td>10000.0</td>\n",
       "      <td>30084.0</td>\n",
       "      <td>5507</td>\n",
       "      <td>11642</td>\n",
       "      <td>3.0</td>\n",
       "      <td>23.0</td>\n",
       "      <td>70000.0</td>\n",
       "      <td>2014.0</td>\n",
       "      <td>969.0</td>\n",
       "      <td>5.6</td>\n",
       "      <td>1.85</td>\n",
       "    </tr>\n",
       "    <tr>\n",
       "      <th>4984</th>\n",
       "      <td>36.0</td>\n",
       "      <td>98.0</td>\n",
       "      <td>0.0</td>\n",
       "      <td>73.0</td>\n",
       "      <td>138.0</td>\n",
       "      <td>10246600.0</td>\n",
       "      <td>6375</td>\n",
       "      <td>388</td>\n",
       "      <td>0.0</td>\n",
       "      <td>36.0</td>\n",
       "      <td>25000.0</td>\n",
       "      <td>1995.0</td>\n",
       "      <td>111.0</td>\n",
       "      <td>6.6</td>\n",
       "      <td>1.85</td>\n",
       "    </tr>\n",
       "    <tr>\n",
       "      <th>4987</th>\n",
       "      <td>113.0</td>\n",
       "      <td>98.0</td>\n",
       "      <td>969.0</td>\n",
       "      <td>433.0</td>\n",
       "      <td>969.0</td>\n",
       "      <td>389804.0</td>\n",
       "      <td>11816</td>\n",
       "      <td>2530</td>\n",
       "      <td>0.0</td>\n",
       "      <td>35.0</td>\n",
       "      <td>65000.0</td>\n",
       "      <td>2010.0</td>\n",
       "      <td>529.0</td>\n",
       "      <td>6.3</td>\n",
       "      <td>2.35</td>\n",
       "    </tr>\n",
       "    <tr>\n",
       "      <th>4997</th>\n",
       "      <td>75.0</td>\n",
       "      <td>90.0</td>\n",
       "      <td>234.0</td>\n",
       "      <td>15.0</td>\n",
       "      <td>552.0</td>\n",
       "      <td>241816.0</td>\n",
       "      <td>6246</td>\n",
       "      <td>642</td>\n",
       "      <td>0.0</td>\n",
       "      <td>76.0</td>\n",
       "      <td>42000.0</td>\n",
       "      <td>2000.0</td>\n",
       "      <td>61.0</td>\n",
       "      <td>7.5</td>\n",
       "      <td>2.35</td>\n",
       "    </tr>\n",
       "    <tr>\n",
       "      <th>4998</th>\n",
       "      <td>21.0</td>\n",
       "      <td>90.0</td>\n",
       "      <td>4.0</td>\n",
       "      <td>113.0</td>\n",
       "      <td>20000.0</td>\n",
       "      <td>277233.0</td>\n",
       "      <td>2631</td>\n",
       "      <td>20814</td>\n",
       "      <td>5.0</td>\n",
       "      <td>26.0</td>\n",
       "      <td>40000.0</td>\n",
       "      <td>1999.0</td>\n",
       "      <td>467.0</td>\n",
       "      <td>7.6</td>\n",
       "      <td>1.85</td>\n",
       "    </tr>\n",
       "    <tr>\n",
       "      <th>5001</th>\n",
       "      <td>71.0</td>\n",
       "      <td>117.0</td>\n",
       "      <td>17000.0</td>\n",
       "      <td>476.0</td>\n",
       "      <td>725.0</td>\n",
       "      <td>321952.0</td>\n",
       "      <td>12611</td>\n",
       "      <td>2783</td>\n",
       "      <td>0.0</td>\n",
       "      <td>113.0</td>\n",
       "      <td>NaN</td>\n",
       "      <td>1978.0</td>\n",
       "      <td>572.0</td>\n",
       "      <td>8.2</td>\n",
       "      <td>1.85</td>\n",
       "    </tr>\n",
       "    <tr>\n",
       "      <th>5003</th>\n",
       "      <td>61.0</td>\n",
       "      <td>79.0</td>\n",
       "      <td>2.0</td>\n",
       "      <td>20.0</td>\n",
       "      <td>962.0</td>\n",
       "      <td>24705.0</td>\n",
       "      <td>1516</td>\n",
       "      <td>1054</td>\n",
       "      <td>0.0</td>\n",
       "      <td>10.0</td>\n",
       "      <td>NaN</td>\n",
       "      <td>2009.0</td>\n",
       "      <td>72.0</td>\n",
       "      <td>6.3</td>\n",
       "      <td>NaN</td>\n",
       "    </tr>\n",
       "    <tr>\n",
       "      <th>5004</th>\n",
       "      <td>3.0</td>\n",
       "      <td>78.0</td>\n",
       "      <td>6.0</td>\n",
       "      <td>17.0</td>\n",
       "      <td>32.0</td>\n",
       "      <td>243768.0</td>\n",
       "      <td>143</td>\n",
       "      <td>72</td>\n",
       "      <td>0.0</td>\n",
       "      <td>9.0</td>\n",
       "      <td>30000.0</td>\n",
       "      <td>2007.0</td>\n",
       "      <td>17.0</td>\n",
       "      <td>4.1</td>\n",
       "      <td>2.35</td>\n",
       "    </tr>\n",
       "    <tr>\n",
       "      <th>5007</th>\n",
       "      <td>53.0</td>\n",
       "      <td>93.0</td>\n",
       "      <td>214.0</td>\n",
       "      <td>59.0</td>\n",
       "      <td>177.0</td>\n",
       "      <td>9609.0</td>\n",
       "      <td>2646</td>\n",
       "      <td>365</td>\n",
       "      <td>4.0</td>\n",
       "      <td>22.0</td>\n",
       "      <td>NaN</td>\n",
       "      <td>2009.0</td>\n",
       "      <td>95.0</td>\n",
       "      <td>6.5</td>\n",
       "      <td>NaN</td>\n",
       "    </tr>\n",
       "    <tr>\n",
       "      <th>5008</th>\n",
       "      <td>136.0</td>\n",
       "      <td>102.0</td>\n",
       "      <td>0.0</td>\n",
       "      <td>216.0</td>\n",
       "      <td>898.0</td>\n",
       "      <td>3151130.0</td>\n",
       "      <td>181749</td>\n",
       "      <td>2103</td>\n",
       "      <td>4.0</td>\n",
       "      <td>615.0</td>\n",
       "      <td>230000.0</td>\n",
       "      <td>1994.0</td>\n",
       "      <td>657.0</td>\n",
       "      <td>7.8</td>\n",
       "      <td>1.37</td>\n",
       "    </tr>\n",
       "    <tr>\n",
       "      <th>5009</th>\n",
       "      <td>8.0</td>\n",
       "      <td>65.0</td>\n",
       "      <td>0.0</td>\n",
       "      <td>NaN</td>\n",
       "      <td>0.0</td>\n",
       "      <td>8231.0</td>\n",
       "      <td>803</td>\n",
       "      <td>0</td>\n",
       "      <td>1.0</td>\n",
       "      <td>16.0</td>\n",
       "      <td>27000.0</td>\n",
       "      <td>1971.0</td>\n",
       "      <td>0.0</td>\n",
       "      <td>6.7</td>\n",
       "      <td>1.37</td>\n",
       "    </tr>\n",
       "    <tr>\n",
       "      <th>5011</th>\n",
       "      <td>80.0</td>\n",
       "      <td>97.0</td>\n",
       "      <td>119.0</td>\n",
       "      <td>7.0</td>\n",
       "      <td>136.0</td>\n",
       "      <td>2856622.0</td>\n",
       "      <td>11550</td>\n",
       "      <td>254</td>\n",
       "      <td>0.0</td>\n",
       "      <td>197.0</td>\n",
       "      <td>25000.0</td>\n",
       "      <td>1997.0</td>\n",
       "      <td>108.0</td>\n",
       "      <td>7.3</td>\n",
       "      <td>1.85</td>\n",
       "    </tr>\n",
       "    <tr>\n",
       "      <th>5012</th>\n",
       "      <td>233.0</td>\n",
       "      <td>109.0</td>\n",
       "      <td>453.0</td>\n",
       "      <td>120.0</td>\n",
       "      <td>1000.0</td>\n",
       "      <td>10499968.0</td>\n",
       "      <td>47502</td>\n",
       "      <td>1458</td>\n",
       "      <td>3.0</td>\n",
       "      <td>212.0</td>\n",
       "      <td>35000000.0</td>\n",
       "      <td>2014.0</td>\n",
       "      <td>206.0</td>\n",
       "      <td>5.7</td>\n",
       "      <td>1.85</td>\n",
       "    </tr>\n",
       "    <tr>\n",
       "      <th>5015</th>\n",
       "      <td>61.0</td>\n",
       "      <td>100.0</td>\n",
       "      <td>0.0</td>\n",
       "      <td>0.0</td>\n",
       "      <td>5.0</td>\n",
       "      <td>1227508.0</td>\n",
       "      <td>15103</td>\n",
       "      <td>5</td>\n",
       "      <td>0.0</td>\n",
       "      <td>80.0</td>\n",
       "      <td>23000.0</td>\n",
       "      <td>1991.0</td>\n",
       "      <td>0.0</td>\n",
       "      <td>7.1</td>\n",
       "      <td>1.37</td>\n",
       "    </tr>\n",
       "    <tr>\n",
       "      <th>5021</th>\n",
       "      <td>51.0</td>\n",
       "      <td>85.0</td>\n",
       "      <td>157.0</td>\n",
       "      <td>10.0</td>\n",
       "      <td>830.0</td>\n",
       "      <td>192467.0</td>\n",
       "      <td>4067</td>\n",
       "      <td>1064</td>\n",
       "      <td>0.0</td>\n",
       "      <td>71.0</td>\n",
       "      <td>15000.0</td>\n",
       "      <td>2005.0</td>\n",
       "      <td>224.0</td>\n",
       "      <td>6.6</td>\n",
       "      <td>NaN</td>\n",
       "    </tr>\n",
       "    <tr>\n",
       "      <th>5023</th>\n",
       "      <td>22.0</td>\n",
       "      <td>88.0</td>\n",
       "      <td>38.0</td>\n",
       "      <td>211.0</td>\n",
       "      <td>331.0</td>\n",
       "      <td>76382.0</td>\n",
       "      <td>1194</td>\n",
       "      <td>1546</td>\n",
       "      <td>2.0</td>\n",
       "      <td>8.0</td>\n",
       "      <td>15000.0</td>\n",
       "      <td>2009.0</td>\n",
       "      <td>212.0</td>\n",
       "      <td>6.2</td>\n",
       "      <td>2.35</td>\n",
       "    </tr>\n",
       "    <tr>\n",
       "      <th>5025</th>\n",
       "      <td>73.0</td>\n",
       "      <td>108.0</td>\n",
       "      <td>0.0</td>\n",
       "      <td>105.0</td>\n",
       "      <td>462.0</td>\n",
       "      <td>180483.0</td>\n",
       "      <td>16792</td>\n",
       "      <td>760</td>\n",
       "      <td>2.0</td>\n",
       "      <td>183.0</td>\n",
       "      <td>10000.0</td>\n",
       "      <td>1972.0</td>\n",
       "      <td>143.0</td>\n",
       "      <td>6.1</td>\n",
       "      <td>1.37</td>\n",
       "    </tr>\n",
       "    <tr>\n",
       "      <th>5026</th>\n",
       "      <td>81.0</td>\n",
       "      <td>110.0</td>\n",
       "      <td>107.0</td>\n",
       "      <td>45.0</td>\n",
       "      <td>576.0</td>\n",
       "      <td>136007.0</td>\n",
       "      <td>3924</td>\n",
       "      <td>776</td>\n",
       "      <td>1.0</td>\n",
       "      <td>39.0</td>\n",
       "      <td>4500.0</td>\n",
       "      <td>2004.0</td>\n",
       "      <td>133.0</td>\n",
       "      <td>6.9</td>\n",
       "      <td>2.35</td>\n",
       "    </tr>\n",
       "    <tr>\n",
       "      <th>5027</th>\n",
       "      <td>64.0</td>\n",
       "      <td>90.0</td>\n",
       "      <td>397.0</td>\n",
       "      <td>0.0</td>\n",
       "      <td>5.0</td>\n",
       "      <td>673780.0</td>\n",
       "      <td>4555</td>\n",
       "      <td>5</td>\n",
       "      <td>0.0</td>\n",
       "      <td>26.0</td>\n",
       "      <td>10000.0</td>\n",
       "      <td>2000.0</td>\n",
       "      <td>0.0</td>\n",
       "      <td>7.5</td>\n",
       "      <td>1.85</td>\n",
       "    </tr>\n",
       "    <tr>\n",
       "      <th>5029</th>\n",
       "      <td>78.0</td>\n",
       "      <td>111.0</td>\n",
       "      <td>62.0</td>\n",
       "      <td>6.0</td>\n",
       "      <td>89.0</td>\n",
       "      <td>94596.0</td>\n",
       "      <td>6318</td>\n",
       "      <td>115</td>\n",
       "      <td>0.0</td>\n",
       "      <td>50.0</td>\n",
       "      <td>1000000.0</td>\n",
       "      <td>1997.0</td>\n",
       "      <td>13.0</td>\n",
       "      <td>7.4</td>\n",
       "      <td>1.85</td>\n",
       "    </tr>\n",
       "    <tr>\n",
       "      <th>5033</th>\n",
       "      <td>143.0</td>\n",
       "      <td>77.0</td>\n",
       "      <td>291.0</td>\n",
       "      <td>8.0</td>\n",
       "      <td>291.0</td>\n",
       "      <td>424760.0</td>\n",
       "      <td>72639</td>\n",
       "      <td>368</td>\n",
       "      <td>0.0</td>\n",
       "      <td>371.0</td>\n",
       "      <td>7000.0</td>\n",
       "      <td>2004.0</td>\n",
       "      <td>45.0</td>\n",
       "      <td>7.0</td>\n",
       "      <td>1.85</td>\n",
       "    </tr>\n",
       "    <tr>\n",
       "      <th>5034</th>\n",
       "      <td>35.0</td>\n",
       "      <td>80.0</td>\n",
       "      <td>0.0</td>\n",
       "      <td>0.0</td>\n",
       "      <td>0.0</td>\n",
       "      <td>70071.0</td>\n",
       "      <td>589</td>\n",
       "      <td>0</td>\n",
       "      <td>0.0</td>\n",
       "      <td>35.0</td>\n",
       "      <td>7000.0</td>\n",
       "      <td>2005.0</td>\n",
       "      <td>0.0</td>\n",
       "      <td>6.3</td>\n",
       "      <td>NaN</td>\n",
       "    </tr>\n",
       "    <tr>\n",
       "      <th>5035</th>\n",
       "      <td>56.0</td>\n",
       "      <td>81.0</td>\n",
       "      <td>0.0</td>\n",
       "      <td>6.0</td>\n",
       "      <td>121.0</td>\n",
       "      <td>2040920.0</td>\n",
       "      <td>52055</td>\n",
       "      <td>147</td>\n",
       "      <td>0.0</td>\n",
       "      <td>130.0</td>\n",
       "      <td>7000.0</td>\n",
       "      <td>1992.0</td>\n",
       "      <td>20.0</td>\n",
       "      <td>6.9</td>\n",
       "      <td>1.37</td>\n",
       "    </tr>\n",
       "    <tr>\n",
       "      <th>5037</th>\n",
       "      <td>14.0</td>\n",
       "      <td>95.0</td>\n",
       "      <td>0.0</td>\n",
       "      <td>133.0</td>\n",
       "      <td>296.0</td>\n",
       "      <td>4584.0</td>\n",
       "      <td>1338</td>\n",
       "      <td>690</td>\n",
       "      <td>1.0</td>\n",
       "      <td>14.0</td>\n",
       "      <td>9000.0</td>\n",
       "      <td>2011.0</td>\n",
       "      <td>205.0</td>\n",
       "      <td>6.4</td>\n",
       "      <td>NaN</td>\n",
       "    </tr>\n",
       "    <tr>\n",
       "      <th>5041</th>\n",
       "      <td>14.0</td>\n",
       "      <td>100.0</td>\n",
       "      <td>0.0</td>\n",
       "      <td>489.0</td>\n",
       "      <td>946.0</td>\n",
       "      <td>10443.0</td>\n",
       "      <td>1255</td>\n",
       "      <td>2386</td>\n",
       "      <td>5.0</td>\n",
       "      <td>9.0</td>\n",
       "      <td>NaN</td>\n",
       "      <td>2012.0</td>\n",
       "      <td>719.0</td>\n",
       "      <td>6.3</td>\n",
       "      <td>2.35</td>\n",
       "    </tr>\n",
       "    <tr>\n",
       "      <th>5042</th>\n",
       "      <td>43.0</td>\n",
       "      <td>90.0</td>\n",
       "      <td>16.0</td>\n",
       "      <td>16.0</td>\n",
       "      <td>86.0</td>\n",
       "      <td>85222.0</td>\n",
       "      <td>4285</td>\n",
       "      <td>163</td>\n",
       "      <td>0.0</td>\n",
       "      <td>84.0</td>\n",
       "      <td>1100.0</td>\n",
       "      <td>2004.0</td>\n",
       "      <td>23.0</td>\n",
       "      <td>6.6</td>\n",
       "      <td>1.85</td>\n",
       "    </tr>\n",
       "  </tbody>\n",
       "</table>\n",
       "<p>4159 rows × 15 columns</p>\n",
       "</div>"
      ],
      "text/plain": [
       "      num_critic_for_reviews  duration  director_facebook_likes  \\\n",
       "0                      723.0     178.0                      0.0   \n",
       "1                      302.0     169.0                    563.0   \n",
       "2                      602.0     148.0                      0.0   \n",
       "3                      813.0     164.0                  22000.0   \n",
       "5                      462.0     132.0                    475.0   \n",
       "6                      392.0     156.0                      0.0   \n",
       "7                      324.0     100.0                     15.0   \n",
       "8                      635.0     141.0                      0.0   \n",
       "9                      375.0     153.0                    282.0   \n",
       "10                     673.0     183.0                      0.0   \n",
       "11                     434.0     169.0                      0.0   \n",
       "12                     403.0     106.0                    395.0   \n",
       "13                     313.0     151.0                    563.0   \n",
       "14                     450.0     150.0                    563.0   \n",
       "15                     733.0     143.0                      0.0   \n",
       "16                     258.0     150.0                     80.0   \n",
       "17                     703.0     173.0                      0.0   \n",
       "18                     448.0     136.0                    252.0   \n",
       "19                     451.0     106.0                    188.0   \n",
       "20                     422.0     164.0                      0.0   \n",
       "21                     599.0     153.0                    464.0   \n",
       "22                     343.0     156.0                      0.0   \n",
       "23                     509.0     186.0                      0.0   \n",
       "24                     251.0     113.0                    129.0   \n",
       "25                     446.0     201.0                      0.0   \n",
       "26                     315.0     194.0                      0.0   \n",
       "27                     516.0     147.0                     94.0   \n",
       "28                     377.0     131.0                    532.0   \n",
       "29                     644.0     124.0                    365.0   \n",
       "30                     750.0     143.0                      0.0   \n",
       "...                      ...       ...                      ...   \n",
       "4974                     5.0      86.0                     12.0   \n",
       "4975                    32.0      87.0                      0.0   \n",
       "4977                   193.0     100.0                    293.0   \n",
       "4978                    66.0      82.0                     32.0   \n",
       "4979                    65.0      82.0                    217.0   \n",
       "4984                    36.0      98.0                      0.0   \n",
       "4987                   113.0      98.0                    969.0   \n",
       "4997                    75.0      90.0                    234.0   \n",
       "4998                    21.0      90.0                      4.0   \n",
       "5001                    71.0     117.0                  17000.0   \n",
       "5003                    61.0      79.0                      2.0   \n",
       "5004                     3.0      78.0                      6.0   \n",
       "5007                    53.0      93.0                    214.0   \n",
       "5008                   136.0     102.0                      0.0   \n",
       "5009                     8.0      65.0                      0.0   \n",
       "5011                    80.0      97.0                    119.0   \n",
       "5012                   233.0     109.0                    453.0   \n",
       "5015                    61.0     100.0                      0.0   \n",
       "5021                    51.0      85.0                    157.0   \n",
       "5023                    22.0      88.0                     38.0   \n",
       "5025                    73.0     108.0                      0.0   \n",
       "5026                    81.0     110.0                    107.0   \n",
       "5027                    64.0      90.0                    397.0   \n",
       "5029                    78.0     111.0                     62.0   \n",
       "5033                   143.0      77.0                    291.0   \n",
       "5034                    35.0      80.0                      0.0   \n",
       "5035                    56.0      81.0                      0.0   \n",
       "5037                    14.0      95.0                      0.0   \n",
       "5041                    14.0     100.0                      0.0   \n",
       "5042                    43.0      90.0                     16.0   \n",
       "\n",
       "      actor_3_facebook_likes  actor_1_facebook_likes        gross  \\\n",
       "0                      855.0                  1000.0  760505847.0   \n",
       "1                     1000.0                 40000.0  309404152.0   \n",
       "2                      161.0                 11000.0  200074175.0   \n",
       "3                    23000.0                 27000.0  448130642.0   \n",
       "5                      530.0                   640.0   73058679.0   \n",
       "6                     4000.0                 24000.0  336530303.0   \n",
       "7                      284.0                   799.0  200807262.0   \n",
       "8                    19000.0                 26000.0  458991599.0   \n",
       "9                    10000.0                 25000.0  301956980.0   \n",
       "10                    2000.0                 15000.0  330249062.0   \n",
       "11                     903.0                 18000.0  200069408.0   \n",
       "12                     393.0                   451.0  168368427.0   \n",
       "13                    1000.0                 40000.0  423032628.0   \n",
       "14                    1000.0                 40000.0   89289910.0   \n",
       "15                     748.0                 15000.0  291021565.0   \n",
       "16                     201.0                 22000.0  141614023.0   \n",
       "17                   19000.0                 26000.0  623279547.0   \n",
       "18                    1000.0                 40000.0  241063875.0   \n",
       "19                     718.0                 10000.0  179020854.0   \n",
       "20                     773.0                  5000.0  255108370.0   \n",
       "21                     963.0                 15000.0  262030663.0   \n",
       "22                     738.0                   891.0  105219735.0   \n",
       "23                     773.0                  5000.0  258355354.0   \n",
       "24                    1000.0                 16000.0   70083519.0   \n",
       "25                      84.0                  6000.0  218051260.0   \n",
       "26                     794.0                 29000.0  658672302.0   \n",
       "27                   11000.0                 21000.0  407197282.0   \n",
       "28                     627.0                 14000.0   65173160.0   \n",
       "29                    1000.0                  3000.0  652177271.0   \n",
       "30                     393.0                   883.0  304360277.0   \n",
       "...                      ...                     ...          ...   \n",
       "4974                   117.0                   238.0      33598.0   \n",
       "4975                   153.0                  1000.0     536767.0   \n",
       "4977                     0.0                     0.0   11529368.0   \n",
       "4978                   128.0                   968.0      40557.0   \n",
       "4979                   442.0                 10000.0      30084.0   \n",
       "4984                    73.0                   138.0   10246600.0   \n",
       "4987                   433.0                   969.0     389804.0   \n",
       "4997                    15.0                   552.0     241816.0   \n",
       "4998                   113.0                 20000.0     277233.0   \n",
       "5001                   476.0                   725.0     321952.0   \n",
       "5003                    20.0                   962.0      24705.0   \n",
       "5004                    17.0                    32.0     243768.0   \n",
       "5007                    59.0                   177.0       9609.0   \n",
       "5008                   216.0                   898.0    3151130.0   \n",
       "5009                     NaN                     0.0       8231.0   \n",
       "5011                     7.0                   136.0    2856622.0   \n",
       "5012                   120.0                  1000.0   10499968.0   \n",
       "5015                     0.0                     5.0    1227508.0   \n",
       "5021                    10.0                   830.0     192467.0   \n",
       "5023                   211.0                   331.0      76382.0   \n",
       "5025                   105.0                   462.0     180483.0   \n",
       "5026                    45.0                   576.0     136007.0   \n",
       "5027                     0.0                     5.0     673780.0   \n",
       "5029                     6.0                    89.0      94596.0   \n",
       "5033                     8.0                   291.0     424760.0   \n",
       "5034                     0.0                     0.0      70071.0   \n",
       "5035                     6.0                   121.0    2040920.0   \n",
       "5037                   133.0                   296.0       4584.0   \n",
       "5041                   489.0                   946.0      10443.0   \n",
       "5042                    16.0                    86.0      85222.0   \n",
       "\n",
       "      num_voted_users  cast_total_facebook_likes  facenumber_in_poster  \\\n",
       "0              886204                       4834                   0.0   \n",
       "1              471220                      48350                   0.0   \n",
       "2              275868                      11700                   1.0   \n",
       "3             1144337                     106759                   0.0   \n",
       "5              212204                       1873                   1.0   \n",
       "6              383056                      46055                   0.0   \n",
       "7              294810                       2036                   1.0   \n",
       "8              462669                      92000                   4.0   \n",
       "9              321795                      58753                   3.0   \n",
       "10             371639                      24450                   0.0   \n",
       "11             240396                      29991                   0.0   \n",
       "12             330784                       2023                   1.0   \n",
       "13             522040                      48486                   2.0   \n",
       "14             181792                      45757                   1.0   \n",
       "15             548573                      20495                   0.0   \n",
       "16             149922                      22697                   4.0   \n",
       "17             995415                      87697                   3.0   \n",
       "18             370704                      54083                   4.0   \n",
       "19             268154                      12572                   1.0   \n",
       "20             354228                       9152                   0.0   \n",
       "21             451803                      28489                   0.0   \n",
       "22             211765                       3244                   0.0   \n",
       "23             483540                       9152                   6.0   \n",
       "24             149019                      24106                   2.0   \n",
       "25             316018                       7123                   0.0   \n",
       "26             793059                      45223                   0.0   \n",
       "27             272670                      64798                   0.0   \n",
       "28             202382                      26679                   0.0   \n",
       "29             418214                       8458                   0.0   \n",
       "30             522030                       2039                   0.0   \n",
       "...               ...                        ...                   ...   \n",
       "4974              405                        623                   1.0   \n",
       "4975             1622                       1362                   0.0   \n",
       "4977            85028                          0                   2.0   \n",
       "4978             1389                       2046                   0.0   \n",
       "4979             5507                      11642                   3.0   \n",
       "4984             6375                        388                   0.0   \n",
       "4987            11816                       2530                   0.0   \n",
       "4997             6246                        642                   0.0   \n",
       "4998             2631                      20814                   5.0   \n",
       "5001            12611                       2783                   0.0   \n",
       "5003             1516                       1054                   0.0   \n",
       "5004              143                         72                   0.0   \n",
       "5007             2646                        365                   4.0   \n",
       "5008           181749                       2103                   4.0   \n",
       "5009              803                          0                   1.0   \n",
       "5011            11550                        254                   0.0   \n",
       "5012            47502                       1458                   3.0   \n",
       "5015            15103                          5                   0.0   \n",
       "5021             4067                       1064                   0.0   \n",
       "5023             1194                       1546                   2.0   \n",
       "5025            16792                        760                   2.0   \n",
       "5026             3924                        776                   1.0   \n",
       "5027             4555                          5                   0.0   \n",
       "5029             6318                        115                   0.0   \n",
       "5033            72639                        368                   0.0   \n",
       "5034              589                          0                   0.0   \n",
       "5035            52055                        147                   0.0   \n",
       "5037             1338                        690                   1.0   \n",
       "5041             1255                       2386                   5.0   \n",
       "5042             4285                        163                   0.0   \n",
       "\n",
       "      num_user_for_reviews       budget  title_year  actor_2_facebook_likes  \\\n",
       "0                   3054.0  237000000.0      2009.0                   936.0   \n",
       "1                   1238.0  300000000.0      2007.0                  5000.0   \n",
       "2                    994.0  245000000.0      2015.0                   393.0   \n",
       "3                   2701.0  250000000.0      2012.0                 23000.0   \n",
       "5                    738.0  263700000.0      2012.0                   632.0   \n",
       "6                   1902.0  258000000.0      2007.0                 11000.0   \n",
       "7                    387.0  260000000.0      2010.0                   553.0   \n",
       "8                   1117.0  250000000.0      2015.0                 21000.0   \n",
       "9                    973.0  250000000.0      2009.0                 11000.0   \n",
       "10                  3018.0  250000000.0      2016.0                  4000.0   \n",
       "11                  2367.0  209000000.0      2006.0                 10000.0   \n",
       "12                  1243.0  200000000.0      2008.0                   412.0   \n",
       "13                  1832.0  225000000.0      2006.0                  5000.0   \n",
       "14                   711.0  215000000.0      2013.0                  2000.0   \n",
       "15                  2536.0  225000000.0      2013.0                  3000.0   \n",
       "16                   438.0  225000000.0      2008.0                   216.0   \n",
       "17                  1722.0  220000000.0      2012.0                 21000.0   \n",
       "18                   484.0  250000000.0      2011.0                 11000.0   \n",
       "19                   341.0  225000000.0      2012.0                   816.0   \n",
       "20                   802.0  250000000.0      2014.0                   972.0   \n",
       "21                  1225.0  230000000.0      2012.0                 10000.0   \n",
       "22                   546.0  200000000.0      2010.0                   882.0   \n",
       "23                   951.0  225000000.0      2013.0                   972.0   \n",
       "24                   666.0  180000000.0      2007.0                  6000.0   \n",
       "25                  2618.0  207000000.0      2005.0                   919.0   \n",
       "26                  2528.0  200000000.0      1997.0                 14000.0   \n",
       "27                  1022.0  250000000.0      2016.0                 19000.0   \n",
       "28                   751.0  209000000.0      2012.0                 10000.0   \n",
       "29                  1290.0  150000000.0      2015.0                  2000.0   \n",
       "30                  1498.0  200000000.0      2012.0                   563.0   \n",
       "...                    ...          ...         ...                     ...   \n",
       "4974                  15.0          NaN      1997.0                   166.0   \n",
       "4975                  83.0      60000.0      1998.0                   184.0   \n",
       "4977                 404.0      65000.0      2004.0                     0.0   \n",
       "4978                  22.0      60000.0      2011.0                   407.0   \n",
       "4979                  23.0      70000.0      2014.0                   969.0   \n",
       "4984                  36.0      25000.0      1995.0                   111.0   \n",
       "4987                  35.0      65000.0      2010.0                   529.0   \n",
       "4997                  76.0      42000.0      2000.0                    61.0   \n",
       "4998                  26.0      40000.0      1999.0                   467.0   \n",
       "5001                 113.0          NaN      1978.0                   572.0   \n",
       "5003                  10.0          NaN      2009.0                    72.0   \n",
       "5004                   9.0      30000.0      2007.0                    17.0   \n",
       "5007                  22.0          NaN      2009.0                    95.0   \n",
       "5008                 615.0     230000.0      1994.0                   657.0   \n",
       "5009                  16.0      27000.0      1971.0                     0.0   \n",
       "5011                 197.0      25000.0      1997.0                   108.0   \n",
       "5012                 212.0   35000000.0      2014.0                   206.0   \n",
       "5015                  80.0      23000.0      1991.0                     0.0   \n",
       "5021                  71.0      15000.0      2005.0                   224.0   \n",
       "5023                   8.0      15000.0      2009.0                   212.0   \n",
       "5025                 183.0      10000.0      1972.0                   143.0   \n",
       "5026                  39.0       4500.0      2004.0                   133.0   \n",
       "5027                  26.0      10000.0      2000.0                     0.0   \n",
       "5029                  50.0    1000000.0      1997.0                    13.0   \n",
       "5033                 371.0       7000.0      2004.0                    45.0   \n",
       "5034                  35.0       7000.0      2005.0                     0.0   \n",
       "5035                 130.0       7000.0      1992.0                    20.0   \n",
       "5037                  14.0       9000.0      2011.0                   205.0   \n",
       "5041                   9.0          NaN      2012.0                   719.0   \n",
       "5042                  84.0       1100.0      2004.0                    23.0   \n",
       "\n",
       "      imdb_score  aspect_ratio  \n",
       "0            7.9          1.78  \n",
       "1            7.1          2.35  \n",
       "2            6.8          2.35  \n",
       "3            8.5          2.35  \n",
       "5            6.6          2.35  \n",
       "6            6.2          2.35  \n",
       "7            7.8          1.85  \n",
       "8            7.5          2.35  \n",
       "9            7.5          2.35  \n",
       "10           6.9          2.35  \n",
       "11           6.1          2.35  \n",
       "12           6.7          2.35  \n",
       "13           7.3          2.35  \n",
       "14           6.5          2.35  \n",
       "15           7.2          2.35  \n",
       "16           6.6          2.35  \n",
       "17           8.1          1.85  \n",
       "18           6.7          2.35  \n",
       "19           6.8          1.85  \n",
       "20           7.5          2.35  \n",
       "21           7.0          2.35  \n",
       "22           6.7          2.35  \n",
       "23           7.9          2.35  \n",
       "24           6.1          2.35  \n",
       "25           7.2          2.35  \n",
       "26           7.7          2.35  \n",
       "27           8.2          2.35  \n",
       "28           5.9          2.35  \n",
       "29           7.0          2.00  \n",
       "30           7.8          2.35  \n",
       "...          ...           ...  \n",
       "4974         5.4           NaN  \n",
       "4975         5.3          1.85  \n",
       "4977         7.3          1.78  \n",
       "4978         5.6          2.35  \n",
       "4979         5.6          1.85  \n",
       "4984         6.6          1.85  \n",
       "4987         6.3          2.35  \n",
       "4997         7.5          2.35  \n",
       "4998         7.6          1.85  \n",
       "5001         8.2          1.85  \n",
       "5003         6.3           NaN  \n",
       "5004         4.1          2.35  \n",
       "5007         6.5           NaN  \n",
       "5008         7.8          1.37  \n",
       "5009         6.7          1.37  \n",
       "5011         7.3          1.85  \n",
       "5012         5.7          1.85  \n",
       "5015         7.1          1.37  \n",
       "5021         6.6           NaN  \n",
       "5023         6.2          2.35  \n",
       "5025         6.1          1.37  \n",
       "5026         6.9          2.35  \n",
       "5027         7.5          1.85  \n",
       "5029         7.4          1.85  \n",
       "5033         7.0          1.85  \n",
       "5034         6.3           NaN  \n",
       "5035         6.9          1.37  \n",
       "5037         6.4           NaN  \n",
       "5041         6.3          2.35  \n",
       "5042         6.6          1.85  \n",
       "\n",
       "[4159 rows x 15 columns]"
      ]
     },
     "execution_count": 32,
     "metadata": {},
     "output_type": "execute_result"
    }
   ],
   "source": [
    "data[float_col].dropna(subset=['gross'])"
   ]
  },
  {
   "cell_type": "code",
   "execution_count": 33,
   "metadata": {
    "colab": {
     "autoexec": {
      "startup": false,
      "wait_interval": 0
     }
    },
    "colab_type": "code",
    "collapsed": true,
    "id": "hkU62jDRTVnW"
   },
   "outputs": [],
   "source": [
    "\"\"\"Восстановим пропуски в данных 3 способами\"\"\"\n",
    "#1. Медианой\n",
    "data_median=data[float_col].fillna(data[float_col].median())\n",
    "data_mean=data[float_col].fillna(data[float_col].mean())\n",
    "data_0=data[float_col].fillna(0)"
   ]
  },
  {
   "cell_type": "code",
   "execution_count": 34,
   "metadata": {
    "colab": {
     "autoexec": {
      "startup": false,
      "wait_interval": 0
     }
    },
    "colab_type": "code",
    "id": "riabVp3XTVnZ",
    "outputId": "7a275820-f405-4893-8ab5-8af4287edf32"
   },
   "outputs": [
    {
     "data": {
      "text/plain": [
       "array([[<matplotlib.axes._subplots.AxesSubplot object at 0x000001DE37CC4CF8>,\n",
       "        <matplotlib.axes._subplots.AxesSubplot object at 0x000001DE3CC45E48>,\n",
       "        <matplotlib.axes._subplots.AxesSubplot object at 0x000001DE3CC79D68>,\n",
       "        <matplotlib.axes._subplots.AxesSubplot object at 0x000001DE3CCB1F28>],\n",
       "       [<matplotlib.axes._subplots.AxesSubplot object at 0x000001DE3CCECEF0>,\n",
       "        <matplotlib.axes._subplots.AxesSubplot object at 0x000001DE3CCECF28>,\n",
       "        <matplotlib.axes._subplots.AxesSubplot object at 0x000001DE3CD57B00>,\n",
       "        <matplotlib.axes._subplots.AxesSubplot object at 0x000001DE3CD90B00>],\n",
       "       [<matplotlib.axes._subplots.AxesSubplot object at 0x000001DE3CDC7B70>,\n",
       "        <matplotlib.axes._subplots.AxesSubplot object at 0x000001DE3CE02160>,\n",
       "        <matplotlib.axes._subplots.AxesSubplot object at 0x000001DE3CE370F0>,\n",
       "        <matplotlib.axes._subplots.AxesSubplot object at 0x000001DE3CE70630>],\n",
       "       [<matplotlib.axes._subplots.AxesSubplot object at 0x000001DE3CEA76A0>,\n",
       "        <matplotlib.axes._subplots.AxesSubplot object at 0x000001DE3CEE25C0>,\n",
       "        <matplotlib.axes._subplots.AxesSubplot object at 0x000001DE3CF09B70>,\n",
       "        <matplotlib.axes._subplots.AxesSubplot object at 0x000001DE3CF45B70>]], dtype=object)"
      ]
     },
     "execution_count": 34,
     "metadata": {},
     "output_type": "execute_result"
    },
    {
     "data": {
      "image/png": "[encoded data removed]",
      "text/plain": [
       "<matplotlib.figure.Figure at 0x1de3cbfc7b8>"
      ]
     },
     "metadata": {},
     "output_type": "display_data"
    }
   ],
   "source": [
    "\"\"\"Посмотрим на распределение признаков\"\"\"\n",
    "\n",
    "data_median.hist(figsize=(15,12))"
   ]
  },
  {
   "cell_type": "code",
   "execution_count": 35,
   "metadata": {
    "colab": {
     "autoexec": {
      "startup": false,
      "wait_interval": 0
     }
    },
    "colab_type": "code",
    "id": "KGe2mkdZTVnc",
    "outputId": "838ea932-a342-494e-dd68-8b3d72a9996e"
   },
   "outputs": [
    {
     "data": {
      "text/plain": [
       "array([[<matplotlib.axes._subplots.AxesSubplot object at 0x000001DE3D60C390>,\n",
       "        <matplotlib.axes._subplots.AxesSubplot object at 0x000001DE3D628908>,\n",
       "        <matplotlib.axes._subplots.AxesSubplot object at 0x000001DE3D0EE898>,\n",
       "        <matplotlib.axes._subplots.AxesSubplot object at 0x000001DE3D127898>],\n",
       "       [<matplotlib.axes._subplots.AxesSubplot object at 0x000001DE3D161898>,\n",
       "        <matplotlib.axes._subplots.AxesSubplot object at 0x000001DE3D1618D0>,\n",
       "        <matplotlib.axes._subplots.AxesSubplot object at 0x000001DE3D1CD3C8>,\n",
       "        <matplotlib.axes._subplots.AxesSubplot object at 0x000001DE3D206898>],\n",
       "       [<matplotlib.axes._subplots.AxesSubplot object at 0x000001DE3D240898>,\n",
       "        <matplotlib.axes._subplots.AxesSubplot object at 0x000001DE3D1E51D0>,\n",
       "        <matplotlib.axes._subplots.AxesSubplot object at 0x000001DE3D2A3E10>,\n",
       "        <matplotlib.axes._subplots.AxesSubplot object at 0x000001DE3D2E9390>],\n",
       "       [<matplotlib.axes._subplots.AxesSubplot object at 0x000001DE3D324390>,\n",
       "        <matplotlib.axes._subplots.AxesSubplot object at 0x000001DE3D35C390>,\n",
       "        <matplotlib.axes._subplots.AxesSubplot object at 0x000001DE3D3848D0>,\n",
       "        <matplotlib.axes._subplots.AxesSubplot object at 0x000001DE3D3BFE10>]], dtype=object)"
      ]
     },
     "execution_count": 35,
     "metadata": {},
     "output_type": "execute_result"
    },
    {
     "data": {
      "image/png": "[encoded data removed]",
      "text/plain": [
       "<matplotlib.figure.Figure at 0x1de3b752278>"
      ]
     },
     "metadata": {},
     "output_type": "display_data"
    }
   ],
   "source": [
    "\"\"\"Посмотрим на распределение признаков\"\"\"\n",
    "data_0.hist(figsize=(15,12))"
   ]
  },
  {
   "cell_type": "code",
   "execution_count": 36,
   "metadata": {
    "colab": {
     "autoexec": {
      "startup": false,
      "wait_interval": 0
     }
    },
    "colab_type": "code",
    "id": "8ivj-fqBTVnf",
    "outputId": "5dd1c287-2287-4b27-f27b-050d6676f0ae"
   },
   "outputs": [
    {
     "data": {
      "text/plain": [
       "array([[<matplotlib.axes._subplots.AxesSubplot object at 0x000001DE3D4226D8>,\n",
       "        <matplotlib.axes._subplots.AxesSubplot object at 0x000001DE3E1908D0>,\n",
       "        <matplotlib.axes._subplots.AxesSubplot object at 0x000001DE3E1B8940>,\n",
       "        <matplotlib.axes._subplots.AxesSubplot object at 0x000001DE3D9C7B70>],\n",
       "       [<matplotlib.axes._subplots.AxesSubplot object at 0x000001DE3DA1A8D0>,\n",
       "        <matplotlib.axes._subplots.AxesSubplot object at 0x000001DE3DA1A908>,\n",
       "        <matplotlib.axes._subplots.AxesSubplot object at 0x000001DE3DA5E048>,\n",
       "        <matplotlib.axes._subplots.AxesSubplot object at 0x000001DE3DA8A4A8>],\n",
       "       [<matplotlib.axes._subplots.AxesSubplot object at 0x000001DE3DAC8F98>,\n",
       "        <matplotlib.axes._subplots.AxesSubplot object at 0x000001DE3DAFCF98>,\n",
       "        <matplotlib.axes._subplots.AxesSubplot object at 0x000001DE3DB31908>,\n",
       "        <matplotlib.axes._subplots.AxesSubplot object at 0x000001DE3DB6CDD8>],\n",
       "       [<matplotlib.axes._subplots.AxesSubplot object at 0x000001DE3DBAE358>,\n",
       "        <matplotlib.axes._subplots.AxesSubplot object at 0x000001DE3DBEA358>,\n",
       "        <matplotlib.axes._subplots.AxesSubplot object at 0x000001DE3DC16668>,\n",
       "        <matplotlib.axes._subplots.AxesSubplot object at 0x000001DE3DC4DBA8>]], dtype=object)"
      ]
     },
     "execution_count": 36,
     "metadata": {},
     "output_type": "execute_result"
    },
    {
     "data": {
      "image/png": "[encoded data removed]",
      "text/plain": [
       "<matplotlib.figure.Figure at 0x1de1556c390>"
      ]
     },
     "metadata": {},
     "output_type": "display_data"
    }
   ],
   "source": [
    "\"\"\"Посмотрим на распределение признаков\"\"\"\n",
    "data_mean.hist(figsize=(15,12))"
   ]
  },
  {
   "cell_type": "markdown",
   "metadata": {
    "colab_type": "text",
    "id": "D-ic8gbxTVni"
   },
   "source": [
    "#### Выводы:\n",
    "Восстановление при помощи зануления пропусков смещает выборку к \"0\"\n",
    "Поэтому воспользуемся по желанию выборкой восстановленной по медиане или среднему"
   ]
  },
  {
   "cell_type": "markdown",
   "metadata": {
    "colab_type": "text",
    "id": "w8bs3B29TVnj"
   },
   "source": [
    "------------------------ "
   ]
  },
  {
   "cell_type": "markdown",
   "metadata": {
    "colab_type": "text",
    "id": "IOmwYvLHTVnk"
   },
   "source": [
    "### Моделирование"
   ]
  },
  {
   "cell_type": "code",
   "execution_count": 89,
   "metadata": {
    "colab": {
     "autoexec": {
      "startup": false,
      "wait_interval": 0
     }
    },
    "colab_type": "code",
    "collapsed": true,
    "id": "zQhEiQWhTVnl"
   },
   "outputs": [],
   "source": [
    "X=data_median\n",
    "Y=data[target_col[1]]"
   ]
  },
  {
   "cell_type": "code",
   "execution_count": 90,
   "metadata": {
    "colab": {
     "autoexec": {
      "startup": false,
      "wait_interval": 0
     }
    },
    "colab_type": "code",
    "collapsed": true,
    "id": "rmC_YUZfTVno"
   },
   "outputs": [],
   "source": [
    "X_train, X_test, y_train, y_test=train_test_split(X, Y, test_size=0.2)"
   ]
  },
  {
   "cell_type": "markdown",
   "metadata": {
    "colab_type": "text",
    "id": "WNhaBj8NTVnr"
   },
   "source": [
    "### K-NN"
   ]
  },
  {
   "cell_type": "code",
   "execution_count": 91,
   "metadata": {
    "colab": {
     "autoexec": {
      "startup": false,
      "wait_interval": 0
     }
    },
    "colab_type": "code",
    "id": "IpBtCJpuTVnr",
    "outputId": "5e9c3bce-8122-4526-db94-ffc8edeb2d3f"
   },
   "outputs": [
    {
     "data": {
      "text/plain": [
       "MinMaxScaler(copy=True, feature_range=(0, 1))"
      ]
     },
     "execution_count": 91,
     "metadata": {},
     "output_type": "execute_result"
    }
   ],
   "source": [
    "\"\"\"Т.к. данный представлены в разных масштабах произведем нормирование данных к [0,1]\"\"\"\n",
    "MinMax=MinMaxScaler()\n",
    "MinMax.fit(X_train)"
   ]
  },
  {
   "cell_type": "code",
   "execution_count": 92,
   "metadata": {
    "colab": {
     "autoexec": {
      "startup": false,
      "wait_interval": 0
     }
    },
    "colab_type": "code",
    "collapsed": true,
    "id": "1n6PeZ5QTVnt"
   },
   "outputs": [],
   "source": [
    "X_t_minmax=MinMax.transform(X_train)\n",
    "X_te_minmax=MinMax.transform(X_test)"
   ]
  },
  {
   "cell_type": "code",
   "execution_count": 93,
   "metadata": {
    "colab": {
     "autoexec": {
      "startup": false,
      "wait_interval": 0
     }
    },
    "colab_type": "code",
    "collapsed": true,
    "id": "1sxH2F5ETVnv"
   },
   "outputs": [],
   "source": [
    "knn=KNeighborsClassifier(6)"
   ]
  },
  {
   "cell_type": "code",
   "execution_count": 94,
   "metadata": {
    "colab": {
     "autoexec": {
      "startup": false,
      "wait_interval": 0
     }
    },
    "colab_type": "code",
    "id": "SlIrxK7ZTVnx",
    "outputId": "11f46b3a-f52b-480d-ef63-dbd5e94d8ebc"
   },
   "outputs": [
    {
     "data": {
      "text/plain": [
       "KNeighborsClassifier(algorithm='auto', leaf_size=30, metric='minkowski',\n",
       "           metric_params=None, n_jobs=1, n_neighbors=6, p=2,\n",
       "           weights='uniform')"
      ]
     },
     "execution_count": 94,
     "metadata": {},
     "output_type": "execute_result"
    }
   ],
   "source": [
    "knn.fit(X_t_minmax, y_train)"
   ]
  },
  {
   "cell_type": "code",
   "execution_count": 95,
   "metadata": {
    "colab": {
     "autoexec": {
      "startup": false,
      "wait_interval": 0
     }
    },
    "colab_type": "code",
    "id": "4MNBqkwfTVnz",
    "outputId": "8d0de3e9-1ef9-44d4-eb07-ecccddf6200b"
   },
   "outputs": [
    {
     "data": {
      "text/plain": [
       "0.72943508424182357"
      ]
     },
     "execution_count": 95,
     "metadata": {},
     "output_type": "execute_result"
    }
   ],
   "source": [
    "knn.score(X_te_minmax,y_test)"
   ]
  },
  {
   "cell_type": "code",
   "execution_count": 118,
   "metadata": {
    "colab": {
     "autoexec": {
      "startup": false,
      "wait_interval": 0
     }
    },
    "colab_type": "code",
    "id": "buQKkE8tTVn2",
    "outputId": "2837a755-031b-41e4-8924-8c1e4df4d5bc"
   },
   "outputs": [
    {
     "name": "stdout",
     "output_type": "stream",
     "text": [
      "K is:  2 |Accuracy is:  0.680872150644\n",
      "K is:  3 |Accuracy is:  0.718533201189\n",
      "K is:  4 |Accuracy is:  0.724479682854\n",
      "K is:  5 |Accuracy is:  0.723488602577\n",
      "K is:  6 |Accuracy is:  0.729435084242\n",
      "K is:  7 |Accuracy is:  0.745292368682\n",
      "K is:  8 |Accuracy is:  0.738354806739\n",
      "K is:  9 |Accuracy is:  0.742319127849\n",
      "K is:  10 |Accuracy is:  0.741328047572\n",
      "K is:  11 |Accuracy is:  0.751238850347\n",
      "K is:  12 |Accuracy is:  0.750247770069\n",
      "K is:  13 |Accuracy is:  0.746283448959\n",
      "K is:  14 |Accuracy is:  0.746283448959\n"
     ]
    },
    {
     "data": {
      "image/png": "[encoded data removed]",
      "text/plain": [
       "<matplotlib.figure.Figure at 0x1de40e5e048>"
      ]
     },
     "metadata": {},
     "output_type": "display_data"
    }
   ],
   "source": [
    "\"\"\"Изобразим график обучения\"\"\"\n",
    "scores=[]\n",
    "for k in range(2, 15):\n",
    "    knn=KNeighborsClassifier(k).fit(X_t_minmax, y_train)\n",
    "    scores.append(knn.score(X_te_minmax,y_test))\n",
    "    print('K is: ', k,'|Accuracy is: ', knn.score(X_te_minmax,y_test))\n",
    "plt.plot(range(2, 15), scores, marker='s');\n",
    "plt.xlabel('$k$')\n",
    "plt.ylabel('$Accuracy$');"
   ]
  },
  {
   "cell_type": "code",
   "execution_count": 119,
   "metadata": {
    "colab": {
     "autoexec": {
      "startup": false,
      "wait_interval": 0
     }
    },
    "colab_type": "code",
    "id": "LDHUq3QDTVn5",
    "outputId": "90515cb0-a8fe-4665-a2e2-a565f1c4f059"
   },
   "outputs": [
    {
     "name": "stdout",
     "output_type": "stream",
     "text": [
      "K is:  2 |Accuracy is:  0.544103072349\n",
      "K is:  3 |Accuracy is:  0.577799801784\n",
      "K is:  4 |Accuracy is:  0.580773042616\n",
      "K is:  5 |Accuracy is:  0.600594648167\n",
      "K is:  6 |Accuracy is:  0.577799801784\n",
      "K is:  7 |Accuracy is:  0.591674925669\n",
      "K is:  8 |Accuracy is:  0.577799801784\n",
      "K is:  9 |Accuracy is:  0.590683845391\n",
      "K is:  10 |Accuracy is:  0.566897918731\n",
      "K is:  11 |Accuracy is:  0.576808721506\n",
      "K is:  12 |Accuracy is:  0.570862239841\n",
      "K is:  13 |Accuracy is:  0.577799801784\n",
      "K is:  14 |Accuracy is:  0.564915758176\n",
      "K is:  15 |Accuracy is:  0.566897918731\n",
      "K is:  16 |Accuracy is:  0.565906838454\n",
      "K is:  17 |Accuracy is:  0.568880079286\n",
      "K is:  18 |Accuracy is:  0.551040634291\n",
      "K is:  19 |Accuracy is:  0.554013875124\n",
      "K is:  20 |Accuracy is:  0.558969276511\n"
     ]
    },
    {
     "data": {
      "image/png": "[encoded data removed]",
      "text/plain": [
       "<matplotlib.figure.Figure at 0x1de40e9f8d0>"
      ]
     },
     "metadata": {},
     "output_type": "display_data"
    }
   ],
   "source": [
    "\"\"\"Изобразим график обучения но для не нормированных данных\"\"\"\n",
    "scores=[]\n",
    "for k in range(2, 21):\n",
    "    knn=KNeighborsClassifier(k).fit(X_train, y_train)\n",
    "    scores.append(knn.score(X_test,y_test))\n",
    "    print('K is: ', k,'|Accuracy is: ', knn.score(X_test,y_test))\n",
    "plt.plot(range(2, 21), scores, marker='s');\n",
    "plt.xlabel('$k$')\n",
    "plt.ylabel('$Accuracy$');"
   ]
  },
  {
   "cell_type": "markdown",
   "metadata": {
    "colab_type": "text",
    "id": "Ws5viavjTVn8"
   },
   "source": [
    "### LinearRegression"
   ]
  },
  {
   "cell_type": "code",
   "execution_count": 120,
   "metadata": {
    "colab": {
     "autoexec": {
      "startup": false,
      "wait_interval": 0
     }
    },
    "colab_type": "code",
    "collapsed": true,
    "id": "jYnD3hgeTVn9"
   },
   "outputs": [],
   "source": [
    "lr=LogisticRegression(random_state=42, C=0.1)"
   ]
  },
  {
   "cell_type": "code",
   "execution_count": 121,
   "metadata": {
    "colab": {
     "autoexec": {
      "startup": false,
      "wait_interval": 0
     }
    },
    "colab_type": "code",
    "id": "HqTZ7SuCTVn_",
    "outputId": "88c54dc2-ba7a-4c35-a51a-93fda2ee7cd9"
   },
   "outputs": [
    {
     "data": {
      "text/plain": [
       "StandardScaler(copy=True, with_mean=True, with_std=True)"
      ]
     },
     "execution_count": 121,
     "metadata": {},
     "output_type": "execute_result"
    }
   ],
   "source": [
    "\"\"\"Т.к. линейные модели чувствительны к масштабу и требуют `нормальности` \"\"\"\n",
    "std_scaler=StandardScaler()\n",
    "std_scaler.fit(X_train)"
   ]
  },
  {
   "cell_type": "code",
   "execution_count": 122,
   "metadata": {
    "colab": {
     "autoexec": {
      "startup": false,
      "wait_interval": 0
     }
    },
    "colab_type": "code",
    "collapsed": true,
    "id": "ydqbSlCZTVoD"
   },
   "outputs": [],
   "source": [
    "X_t_std=std_scaler.transform(X_train)\n",
    "X_te_std=std_scaler.transform(X_test)"
   ]
  },
  {
   "cell_type": "code",
   "execution_count": 123,
   "metadata": {
    "colab": {
     "autoexec": {
      "startup": false,
      "wait_interval": 0
     }
    },
    "colab_type": "code",
    "id": "KJnfe4EKTVoF",
    "outputId": "46226059-b6f9-4bd5-9428-cc09a8175871"
   },
   "outputs": [
    {
     "data": {
      "text/plain": [
       "LogisticRegression(C=0.1, class_weight=None, dual=False, fit_intercept=True,\n",
       "          intercept_scaling=1, max_iter=100, multi_class='ovr', n_jobs=1,\n",
       "          penalty='l2', random_state=42, solver='liblinear', tol=0.0001,\n",
       "          verbose=0, warm_start=False)"
      ]
     },
     "execution_count": 123,
     "metadata": {},
     "output_type": "execute_result"
    }
   ],
   "source": [
    "lr.fit(X_t_std, y_train)"
   ]
  },
  {
   "cell_type": "code",
   "execution_count": 124,
   "metadata": {
    "colab": {
     "autoexec": {
      "startup": false,
      "wait_interval": 0
     }
    },
    "colab_type": "code",
    "collapsed": true,
    "id": "saZY65ALTVoI"
   },
   "outputs": [],
   "source": [
    "models={\n",
    "   'Linear_regression': lr\n",
    "}"
   ]
  },
  {
   "cell_type": "code",
   "execution_count": 125,
   "metadata": {
    "colab": {
     "autoexec": {
      "startup": false,
      "wait_interval": 0
     }
    },
    "colab_type": "code",
    "id": "2m6XW8oqTVoL",
    "outputId": "f87fedee-dc7b-406d-8e42-c6c1ee2bd3e6"
   },
   "outputs": [
    {
     "name": "stdout",
     "output_type": "stream",
     "text": [
      "Linear_regression 0.615460852329\n"
     ]
    }
   ],
   "source": [
    "for i in models:\n",
    "    print(i, models[i].score(X_te_std, y_test))"
   ]
  },
  {
   "cell_type": "code",
   "execution_count": null,
   "metadata": {
    "collapsed": true
   },
   "outputs": [],
   "source": []
  },
  {
   "cell_type": "code",
   "execution_count": 126,
   "metadata": {
    "colab": {
     "autoexec": {
      "startup": false,
      "wait_interval": 0
     }
    },
    "colab_type": "code",
    "collapsed": true,
    "id": "xAgU1ik5TVoS"
   },
   "outputs": [],
   "source": [
    "X_t_std=np.log2(10+X_t_std)\n",
    "X_te_std=np.log2(10+X_te_std)"
   ]
  },
  {
   "cell_type": "code",
   "execution_count": 127,
   "metadata": {
    "colab": {
     "autoexec": {
      "startup": false,
      "wait_interval": 0
     }
    },
    "colab_type": "code",
    "id": "eiIibZqxTVoU",
    "outputId": "4b272d34-193e-488f-aab5-3bc01f49a41c"
   },
   "outputs": [
    {
     "data": {
      "text/plain": [
       "LogisticRegression(C=0.1, class_weight=None, dual=False, fit_intercept=True,\n",
       "          intercept_scaling=1, max_iter=100, multi_class='ovr', n_jobs=1,\n",
       "          penalty='l2', random_state=42, solver='liblinear', tol=0.0001,\n",
       "          verbose=0, warm_start=False)"
      ]
     },
     "execution_count": 127,
     "metadata": {},
     "output_type": "execute_result"
    }
   ],
   "source": [
    "lr.fit(X_t_std, y_train)"
   ]
  },
  {
   "cell_type": "code",
   "execution_count": 128,
   "metadata": {
    "colab": {
     "autoexec": {
      "startup": false,
      "wait_interval": 0
     }
    },
    "colab_type": "code",
    "id": "gJESCkDRTVoX",
    "outputId": "49780d8c-853b-40b5-9f6d-d0fb558394ef"
   },
   "outputs": [
    {
     "name": "stdout",
     "output_type": "stream",
     "text": [
      "Linear_regression 0.578790882061\n"
     ]
    }
   ],
   "source": [
    "for i in models:\n",
    "    print(i, models[i].score(X_te_std, y_test))"
   ]
  },
  {
   "cell_type": "markdown",
   "metadata": {
    "colab_type": "text",
    "id": "DEoShvdZTVoZ"
   },
   "source": [
    "### DTrees"
   ]
  },
  {
   "cell_type": "code",
   "execution_count": 129,
   "metadata": {
    "colab": {
     "autoexec": {
      "startup": false,
      "wait_interval": 0
     }
    },
    "colab_type": "code",
    "collapsed": true,
    "id": "fAC8bZXeTVoa"
   },
   "outputs": [],
   "source": [
    "dtree=DecisionTreeClassifier(random_state=1234)"
   ]
  },
  {
   "cell_type": "code",
   "execution_count": 130,
   "metadata": {
    "colab": {
     "autoexec": {
      "startup": false,
      "wait_interval": 0
     }
    },
    "colab_type": "code",
    "id": "K_7_hGCuTVoc",
    "outputId": "de21a306-0183-466c-f9ef-dab8100e5938"
   },
   "outputs": [
    {
     "data": {
      "text/plain": [
       "DecisionTreeClassifier(class_weight=None, criterion='gini', max_depth=None,\n",
       "            max_features=None, max_leaf_nodes=None,\n",
       "            min_impurity_decrease=0.0, min_impurity_split=None,\n",
       "            min_samples_leaf=1, min_samples_split=2,\n",
       "            min_weight_fraction_leaf=0.0, presort=False, random_state=1234,\n",
       "            splitter='best')"
      ]
     },
     "execution_count": 130,
     "metadata": {},
     "output_type": "execute_result"
    }
   ],
   "source": [
    "dtree.fit(X_train, y_train)"
   ]
  },
  {
   "cell_type": "code",
   "execution_count": 131,
   "metadata": {
    "colab": {
     "autoexec": {
      "startup": false,
      "wait_interval": 0
     }
    },
    "colab_type": "code",
    "id": "1r3Kl7aKTVoe",
    "outputId": "ee1113d8-b389-4a3f-b5ec-a3b66654e625"
   },
   "outputs": [
    {
     "data": {
      "text/plain": [
       "0.73835480673934584"
      ]
     },
     "execution_count": 131,
     "metadata": {},
     "output_type": "execute_result"
    }
   ],
   "source": [
    "dtree.score(X_test, y_test)"
   ]
  },
  {
   "cell_type": "code",
   "execution_count": 132,
   "metadata": {
    "colab": {
     "autoexec": {
      "startup": false,
      "wait_interval": 0
     }
    },
    "colab_type": "code",
    "id": "27PgxO-jTVog",
    "outputId": "b25875fc-5efe-4b9d-bfa5-1496ca69865e"
   },
   "outputs": [
    {
     "name": "stdout",
     "output_type": "stream",
     "text": [
      "Depth is:  1 |Accuracy is:  0.546085232904\n",
      "Depth is:  2 |Accuracy is:  0.640237859267\n",
      "Depth is:  3 |Accuracy is:  0.676907829534\n",
      "Depth is:  4 |Accuracy is:  0.728444003964\n",
      "Depth is:  5 |Accuracy is:  0.753221010902\n",
      "Depth is:  6 |Accuracy is:  0.746283448959\n",
      "Depth is:  7 |Accuracy is:  0.748265609514\n",
      "Depth is:  8 |Accuracy is:  0.753221010902\n",
      "Depth is:  9 |Accuracy is:  0.758176412289\n",
      "Depth is:  10 |Accuracy is:  0.764122893954\n",
      "Depth is:  11 |Accuracy is:  0.759167492567\n",
      "Depth is:  12 |Accuracy is:  0.751238850347\n",
      "Depth is:  13 |Accuracy is:  0.753221010902\n",
      "Depth is:  14 |Accuracy is:  0.752229930624\n",
      "Depth is:  15 |Accuracy is:  0.742319127849\n"
     ]
    },
    {
     "data": {
      "image/png": "[encoded data removed]",
      "text/plain": [
       "<matplotlib.figure.Figure at 0x1de41edc588>"
      ]
     },
     "metadata": {},
     "output_type": "display_data"
    }
   ],
   "source": [
    "\"\"\"Изобразим график обучения и посмотрим как глубина дерева влияет на точность\"\"\"\n",
    "scores=[]\n",
    "for n in np.arange(1,16):\n",
    "    dtree=DecisionTreeClassifier(max_depth=n, random_state=1234).fit(X_train, y_train)\n",
    "    scores.append(dtree.score(X_test, y_test))\n",
    "    print('Depth is: ', n,'|Accuracy is: ', dtree.score(X_test, y_test))\n",
    "plt.plot(range(1,16), scores, marker='s');\n",
    "plt.xlabel('$k$')\n",
    "plt.ylabel('$Accuracy$');"
   ]
  },
  {
   "cell_type": "code",
   "execution_count": 133,
   "metadata": {},
   "outputs": [
    {
     "data": {
      "text/plain": [
       "(4034, 15)"
      ]
     },
     "execution_count": 133,
     "metadata": {},
     "output_type": "execute_result"
    }
   ],
   "source": [
    "X_train.shape"
   ]
  },
  {
   "cell_type": "code",
   "execution_count": 134,
   "metadata": {
    "colab": {
     "autoexec": {
      "startup": false,
      "wait_interval": 0
     }
    },
    "colab_type": "code",
    "id": "xwvUsu4sTVok",
    "outputId": "e05d5229-b0aa-44b5-be5e-eecfc4c7d7f3"
   },
   "outputs": [
    {
     "name": "stdout",
     "output_type": "stream",
     "text": [
      "MaxFeatures is:  2 |Accuracy is:  0.712586719524\n",
      "MaxFeatures is:  3 |Accuracy is:  0.698711595639\n",
      "MaxFeatures is:  4 |Accuracy is:  0.742319127849\n",
      "MaxFeatures is:  5 |Accuracy is:  0.748265609514\n",
      "MaxFeatures is:  6 |Accuracy is:  0.754212091179\n",
      "MaxFeatures is:  7 |Accuracy is:  0.740336967294\n",
      "MaxFeatures is:  8 |Accuracy is:  0.730426164519\n",
      "MaxFeatures is:  9 |Accuracy is:  0.732408325074\n",
      "MaxFeatures is:  10 |Accuracy is:  0.723488602577\n",
      "MaxFeatures is:  11 |Accuracy is:  0.763131813677\n",
      "MaxFeatures is:  12 |Accuracy is:  0.736372646184\n",
      "MaxFeatures is:  13 |Accuracy is:  0.726461843409\n",
      "MaxFeatures is:  14 |Accuracy is:  0.749256689792\n",
      "MaxFeatures is:  15 |Accuracy is:  0.746283448959\n"
     ]
    },
    {
     "data": {
      "image/png": "[encoded data removed]",
      "text/plain": [
       "<matplotlib.figure.Figure at 0x1de42015320>"
      ]
     },
     "metadata": {},
     "output_type": "display_data"
    }
   ],
   "source": [
    "\"\"\"Изобразим график обучения и посмотрим как ширина дерева влияет на точность\"\"\"\n",
    "scores=[]\n",
    "\n",
    "for n in np.arange(2,16):\n",
    "    dtree=DecisionTreeClassifier(max_depth=6, max_features=n, random_state=41).fit(X_train, y_train)\n",
    "    scores.append(dtree.score(X_test, y_test))\n",
    "    print('MaxFeatures is: ', n,'|Accuracy is: ', dtree.score(X_test, y_test))\n",
    "plt.plot(range(2, 16), scores, marker='s');\n",
    "plt.xlabel('$k$')\n",
    "plt.ylabel('$Accuracy$');"
   ]
  },
  {
   "cell_type": "markdown",
   "metadata": {
    "colab_type": "text",
    "id": "BV6bmUmyTVoq"
   },
   "source": [
    "### BONUS RandomForestRegressor"
   ]
  },
  {
   "cell_type": "code",
   "execution_count": 135,
   "metadata": {
    "colab": {
     "autoexec": {
      "startup": false,
      "wait_interval": 0
     }
    },
    "colab_type": "code",
    "collapsed": true,
    "id": "jtaY0peKTVoq"
   },
   "outputs": [],
   "source": [
    "from sklearn.ensemble import RandomForestClassifier"
   ]
  },
  {
   "cell_type": "code",
   "execution_count": 136,
   "metadata": {
    "colab": {
     "autoexec": {
      "startup": false,
      "wait_interval": 0
     }
    },
    "colab_type": "code",
    "collapsed": true,
    "id": "mynGwc3eTVot"
   },
   "outputs": [],
   "source": [
    "RF_reg=RandomForestClassifier(n_estimators=15,\n",
    "                               oob_score=True,\n",
    "                               random_state=1)"
   ]
  },
  {
   "cell_type": "code",
   "execution_count": 137,
   "metadata": {
    "colab": {
     "autoexec": {
      "startup": false,
      "wait_interval": 0
     }
    },
    "colab_type": "code",
    "id": "N38xriIETVow",
    "outputId": "6df6b34c-7a76-4432-e747-325c9cc175d9"
   },
   "outputs": [
    {
     "name": "stderr",
     "output_type": "stream",
     "text": [
      "C:\\Users\\AlexConda\\Anaconda3\\lib\\site-packages\\sklearn\\ensemble\\forest.py:453: UserWarning: Some inputs do not have OOB scores. This probably means too few trees were used to compute any reliable oob estimates.\n",
      "  warn(\"Some inputs do not have OOB scores. \"\n",
      "C:\\Users\\AlexConda\\Anaconda3\\lib\\site-packages\\sklearn\\ensemble\\forest.py:458: RuntimeWarning: invalid value encountered in true_divide\n",
      "  predictions[k].sum(axis=1)[:, np.newaxis])\n"
     ]
    },
    {
     "data": {
      "text/plain": [
       "RandomForestClassifier(bootstrap=True, class_weight=None, criterion='gini',\n",
       "            max_depth=None, max_features='auto', max_leaf_nodes=None,\n",
       "            min_impurity_decrease=0.0, min_impurity_split=None,\n",
       "            min_samples_leaf=1, min_samples_split=2,\n",
       "            min_weight_fraction_leaf=0.0, n_estimators=15, n_jobs=1,\n",
       "            oob_score=True, random_state=1, verbose=0, warm_start=False)"
      ]
     },
     "execution_count": 137,
     "metadata": {},
     "output_type": "execute_result"
    }
   ],
   "source": [
    "RF_reg.fit(X_train, y_train)"
   ]
  },
  {
   "cell_type": "code",
   "execution_count": 138,
   "metadata": {
    "colab": {
     "autoexec": {
      "startup": false,
      "wait_interval": 0
     }
    },
    "colab_type": "code",
    "id": "3rimK1CfTVoz",
    "outputId": "7b9694cb-a130-4b68-a78b-9b3710503f8e"
   },
   "outputs": [
    {
     "data": {
      "text/plain": [
       "0.77006937561942512"
      ]
     },
     "execution_count": 138,
     "metadata": {},
     "output_type": "execute_result"
    }
   ],
   "source": [
    "RF_reg.score(X_test, y_test)"
   ]
  },
  {
   "cell_type": "code",
   "execution_count": 139,
   "metadata": {
    "colab": {
     "autoexec": {
      "startup": false,
      "wait_interval": 0
     }
    },
    "colab_type": "code",
    "id": "xnVlnwxiTVo1",
    "outputId": "49096e09-431e-446c-dd45-302f1c4917f6"
   },
   "outputs": [
    {
     "name": "stdout",
     "output_type": "stream",
     "text": [
      "Estimators is:  10 |Accuracy is:  0.749256689792\n",
      "Estimators is:  20 |Accuracy is:  0.777006937562\n",
      "Estimators is:  30 |Accuracy is:  0.792864222002\n",
      "Estimators is:  40 |Accuracy is:  0.791873141724\n",
      "Estimators is:  50 |Accuracy is:  0.792864222002\n",
      "Estimators is:  60 |Accuracy is:  0.797819623389\n",
      "Estimators is:  70 |Accuracy is:  0.799801783944\n",
      "Estimators is:  80 |Accuracy is:  0.797819623389\n",
      "Estimators is:  90 |Accuracy is:  0.796828543112\n",
      "Estimators is:  100 |Accuracy is:  0.788899900892\n"
     ]
    },
    {
     "data": {
      "image/png": "[encoded data removed]",
      "text/plain": [
       "<matplotlib.figure.Figure at 0x1de40e94a90>"
      ]
     },
     "metadata": {},
     "output_type": "display_data"
    }
   ],
   "source": [
    "\"\"\"Изобразим график обучения и посмотрим как число деревьев в лесу влияет на точность\"\"\"\n",
    "scores=[]\n",
    "for n in np.arange(10,110,10):\n",
    "    RF_reg=RandomForestClassifier(n_estimators=n,random_state=42).fit(X_train, y_train)\n",
    "    scores.append(RF_reg.score(X_test, y_test))\n",
    "    print('Estimators is: ', n,'|Accuracy is: ', RF_reg.score(X_test, y_test))\n",
    "plt.plot(range(10, 110, 10), scores, marker='s');\n",
    "plt.xlabel('$k$')\n",
    "plt.ylabel('$Accuracy$');"
   ]
  },
  {
   "cell_type": "markdown",
   "metadata": {
    "colab_type": "text",
    "id": "WIN-R7FWTVo3"
   },
   "source": [
    "### ЗАДАЧА:\n",
    "1. Поиграться с парамтерами каждой из моделей и выбить наибольший возможный скор по Accuracy\n",
    "2. Почитать об алгоритмах:\n",
    "    RF - https://alexanderdyakonov.wordpress.com/2016/11/14/случайный-лес-random-forest/ ;\n",
    "    Linear Regression- http://scikit-learn.org/stable/auto_examples/linear_model/plot_ols.html ;\n",
    "   RF at sklearn - http://scikit-learn.org/stable/modules/generated/sklearn.ensemble.RandomForestRegressor.html ; \n",
    "   K-NN at sklearn - http://scikit-learn.org/stable/modules/generated/sklearn.neighbors.KNeighborsRegressor.html#sklearn.neighbors.KNeighborsRegressor; \n",
    "    Пример спортивного анализа данных (для ознокамления) https://habrahabr.ru/post/202090/"
   ]
  },
  {
   "cell_type": "code",
   "execution_count": 0,
   "metadata": {
    "colab": {
     "autoexec": {
      "startup": false,
      "wait_interval": 0
     }
    },
    "colab_type": "code",
    "collapsed": true,
    "id": "VYU0ITOcTVo3"
   },
   "outputs": [],
   "source": []
  }
 ],
 "metadata": {
  "colab": {
   "default_view": {},
   "name": "Shishkin.ipynb",
   "provenance": [],
   "version": "0.3.2",
   "views": {}
  },
  "kernelspec": {
   "display_name": "Python 3",
   "language": "python",
   "name": "python3"
  },
  "language_info": {
   "codemirror_mode": {
    "name": "ipython",
    "version": 3
   },
   "file_extension": ".py",
   "mimetype": "text/x-python",
   "name": "python",
   "nbconvert_exporter": "python",
   "pygments_lexer": "ipython3",
   "version": "3.6.3"
  }
 },
 "nbformat": 4,
 "nbformat_minor": 1
}
