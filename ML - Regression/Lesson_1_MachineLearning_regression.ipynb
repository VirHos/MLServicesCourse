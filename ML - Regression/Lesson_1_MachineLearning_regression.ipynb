{
 "cells": [
  {
   "cell_type": "markdown",
   "metadata": {
    "colab_type": "text",
    "id": "hLOAKP-gTVmz"
   },
   "source": [
    "### Блок импорта библиотек"
   ]
  },
  {
   "cell_type": "code",
   "execution_count": 2,
   "metadata": {
    "colab": {
     "autoexec": {
      "startup": false,
      "wait_interval": 0
     }
    },
    "colab_type": "code",
    "id": "bbCej3JSTVm1"
   },
   "outputs": [
    {
     "name": "stdout",
     "output_type": "stream",
     "text": [
      "Populating the interactive namespace from numpy and matplotlib\n"
     ]
    }
   ],
   "source": [
    "import pandas as pd\n",
    "from sklearn.linear_model import LinearRegression, Lasso, Ridge #Линейная регрессия\n",
    "from sklearn.tree import DecisionTreeRegressor #Деревья решений\n",
    "from sklearn.neighbors import KNeighborsRegressor #К-ближ. соседей\n",
    "from sklearn.model_selection import train_test_split #модель разбиения данных на тест и обучение\n",
    "from sklearn.preprocessing import StandardScaler, MinMaxScaler,scale #Модель нормализации данных\n",
    "%pylab inline"
   ]
  },
  {
   "cell_type": "code",
   "execution_count": 3,
   "metadata": {
    "colab": {
     "autoexec": {
      "startup": false,
      "wait_interval": 0
     }
    },
    "colab_type": "code",
    "collapsed": true,
    "id": "u-LSHhDuTVm6"
   },
   "outputs": [],
   "source": [
    "#Загрузка данных\n",
    "data=pd.read_csv('movie_metadata.csv', sep=',')"
   ]
  },
  {
   "cell_type": "markdown",
   "metadata": {
    "colab_type": "text",
    "id": "24BTqQFZTVm9"
   },
   "source": [
    "### Первичный просмотр данных"
   ]
  },
  {
   "cell_type": "code",
   "execution_count": 4,
   "metadata": {
    "colab": {
     "autoexec": {
      "startup": false,
      "wait_interval": 0
     }
    },
    "colab_type": "code",
    "id": "ksh6V1zNTVm9",
    "outputId": "e504256d-8ced-4a0f-9df3-35a3634688d9"
   },
   "outputs": [
    {
     "data": {
      "text/html": [
       "<div>\n",
       "<style>\n",
       "    .dataframe thead tr:only-child th {\n",
       "        text-align: right;\n",
       "    }\n",
       "\n",
       "    .dataframe thead th {\n",
       "        text-align: left;\n",
       "    }\n",
       "\n",
       "    .dataframe tbody tr th {\n",
       "        vertical-align: top;\n",
       "    }\n",
       "</style>\n",
       "<table border=\"1\" class=\"dataframe\">\n",
       "  <thead>\n",
       "    <tr style=\"text-align: right;\">\n",
       "      <th></th>\n",
       "      <th>color</th>\n",
       "      <th>director_name</th>\n",
       "      <th>num_critic_for_reviews</th>\n",
       "      <th>duration</th>\n",
       "      <th>director_facebook_likes</th>\n",
       "      <th>actor_3_facebook_likes</th>\n",
       "      <th>actor_2_name</th>\n",
       "      <th>actor_1_facebook_likes</th>\n",
       "      <th>gross</th>\n",
       "      <th>genres</th>\n",
       "      <th>...</th>\n",
       "      <th>num_user_for_reviews</th>\n",
       "      <th>language</th>\n",
       "      <th>country</th>\n",
       "      <th>content_rating</th>\n",
       "      <th>budget</th>\n",
       "      <th>title_year</th>\n",
       "      <th>actor_2_facebook_likes</th>\n",
       "      <th>imdb_score</th>\n",
       "      <th>aspect_ratio</th>\n",
       "      <th>movie_facebook_likes</th>\n",
       "    </tr>\n",
       "  </thead>\n",
       "  <tbody>\n",
       "    <tr>\n",
       "      <th>0</th>\n",
       "      <td>Color</td>\n",
       "      <td>James Cameron</td>\n",
       "      <td>723.0</td>\n",
       "      <td>178.0</td>\n",
       "      <td>0.0</td>\n",
       "      <td>855.0</td>\n",
       "      <td>Joel David Moore</td>\n",
       "      <td>1000.0</td>\n",
       "      <td>760505847.0</td>\n",
       "      <td>Action|Adventure|Fantasy|Sci-Fi</td>\n",
       "      <td>...</td>\n",
       "      <td>3054.0</td>\n",
       "      <td>English</td>\n",
       "      <td>USA</td>\n",
       "      <td>PG-13</td>\n",
       "      <td>237000000.0</td>\n",
       "      <td>2009.0</td>\n",
       "      <td>936.0</td>\n",
       "      <td>7.9</td>\n",
       "      <td>1.78</td>\n",
       "      <td>33000</td>\n",
       "    </tr>\n",
       "    <tr>\n",
       "      <th>1</th>\n",
       "      <td>Color</td>\n",
       "      <td>Gore Verbinski</td>\n",
       "      <td>302.0</td>\n",
       "      <td>169.0</td>\n",
       "      <td>563.0</td>\n",
       "      <td>1000.0</td>\n",
       "      <td>Orlando Bloom</td>\n",
       "      <td>40000.0</td>\n",
       "      <td>309404152.0</td>\n",
       "      <td>Action|Adventure|Fantasy</td>\n",
       "      <td>...</td>\n",
       "      <td>1238.0</td>\n",
       "      <td>English</td>\n",
       "      <td>USA</td>\n",
       "      <td>PG-13</td>\n",
       "      <td>300000000.0</td>\n",
       "      <td>2007.0</td>\n",
       "      <td>5000.0</td>\n",
       "      <td>7.1</td>\n",
       "      <td>2.35</td>\n",
       "      <td>0</td>\n",
       "    </tr>\n",
       "    <tr>\n",
       "      <th>2</th>\n",
       "      <td>Color</td>\n",
       "      <td>Sam Mendes</td>\n",
       "      <td>602.0</td>\n",
       "      <td>148.0</td>\n",
       "      <td>0.0</td>\n",
       "      <td>161.0</td>\n",
       "      <td>Rory Kinnear</td>\n",
       "      <td>11000.0</td>\n",
       "      <td>200074175.0</td>\n",
       "      <td>Action|Adventure|Thriller</td>\n",
       "      <td>...</td>\n",
       "      <td>994.0</td>\n",
       "      <td>English</td>\n",
       "      <td>UK</td>\n",
       "      <td>PG-13</td>\n",
       "      <td>245000000.0</td>\n",
       "      <td>2015.0</td>\n",
       "      <td>393.0</td>\n",
       "      <td>6.8</td>\n",
       "      <td>2.35</td>\n",
       "      <td>85000</td>\n",
       "    </tr>\n",
       "    <tr>\n",
       "      <th>3</th>\n",
       "      <td>Color</td>\n",
       "      <td>Christopher Nolan</td>\n",
       "      <td>813.0</td>\n",
       "      <td>164.0</td>\n",
       "      <td>22000.0</td>\n",
       "      <td>23000.0</td>\n",
       "      <td>Christian Bale</td>\n",
       "      <td>27000.0</td>\n",
       "      <td>448130642.0</td>\n",
       "      <td>Action|Thriller</td>\n",
       "      <td>...</td>\n",
       "      <td>2701.0</td>\n",
       "      <td>English</td>\n",
       "      <td>USA</td>\n",
       "      <td>PG-13</td>\n",
       "      <td>250000000.0</td>\n",
       "      <td>2012.0</td>\n",
       "      <td>23000.0</td>\n",
       "      <td>8.5</td>\n",
       "      <td>2.35</td>\n",
       "      <td>164000</td>\n",
       "    </tr>\n",
       "    <tr>\n",
       "      <th>4</th>\n",
       "      <td>NaN</td>\n",
       "      <td>Doug Walker</td>\n",
       "      <td>NaN</td>\n",
       "      <td>NaN</td>\n",
       "      <td>131.0</td>\n",
       "      <td>NaN</td>\n",
       "      <td>Rob Walker</td>\n",
       "      <td>131.0</td>\n",
       "      <td>NaN</td>\n",
       "      <td>Documentary</td>\n",
       "      <td>...</td>\n",
       "      <td>NaN</td>\n",
       "      <td>NaN</td>\n",
       "      <td>NaN</td>\n",
       "      <td>NaN</td>\n",
       "      <td>NaN</td>\n",
       "      <td>NaN</td>\n",
       "      <td>12.0</td>\n",
       "      <td>7.1</td>\n",
       "      <td>NaN</td>\n",
       "      <td>0</td>\n",
       "    </tr>\n",
       "  </tbody>\n",
       "</table>\n",
       "<p>5 rows × 28 columns</p>\n",
       "</div>"
      ],
      "text/plain": [
       "   color      director_name  num_critic_for_reviews  duration  \\\n",
       "0  Color      James Cameron                   723.0     178.0   \n",
       "1  Color     Gore Verbinski                   302.0     169.0   \n",
       "2  Color         Sam Mendes                   602.0     148.0   \n",
       "3  Color  Christopher Nolan                   813.0     164.0   \n",
       "4    NaN        Doug Walker                     NaN       NaN   \n",
       "\n",
       "   director_facebook_likes  actor_3_facebook_likes      actor_2_name  \\\n",
       "0                      0.0                   855.0  Joel David Moore   \n",
       "1                    563.0                  1000.0     Orlando Bloom   \n",
       "2                      0.0                   161.0      Rory Kinnear   \n",
       "3                  22000.0                 23000.0    Christian Bale   \n",
       "4                    131.0                     NaN        Rob Walker   \n",
       "\n",
       "   actor_1_facebook_likes        gross                           genres  \\\n",
       "0                  1000.0  760505847.0  Action|Adventure|Fantasy|Sci-Fi   \n",
       "1                 40000.0  309404152.0         Action|Adventure|Fantasy   \n",
       "2                 11000.0  200074175.0        Action|Adventure|Thriller   \n",
       "3                 27000.0  448130642.0                  Action|Thriller   \n",
       "4                   131.0          NaN                      Documentary   \n",
       "\n",
       "          ...          num_user_for_reviews language  country  content_rating  \\\n",
       "0         ...                        3054.0  English      USA           PG-13   \n",
       "1         ...                        1238.0  English      USA           PG-13   \n",
       "2         ...                         994.0  English       UK           PG-13   \n",
       "3         ...                        2701.0  English      USA           PG-13   \n",
       "4         ...                           NaN      NaN      NaN             NaN   \n",
       "\n",
       "        budget  title_year actor_2_facebook_likes imdb_score  aspect_ratio  \\\n",
       "0  237000000.0      2009.0                  936.0        7.9          1.78   \n",
       "1  300000000.0      2007.0                 5000.0        7.1          2.35   \n",
       "2  245000000.0      2015.0                  393.0        6.8          2.35   \n",
       "3  250000000.0      2012.0                23000.0        8.5          2.35   \n",
       "4          NaN         NaN                   12.0        7.1           NaN   \n",
       "\n",
       "  movie_facebook_likes  \n",
       "0                33000  \n",
       "1                    0  \n",
       "2                85000  \n",
       "3               164000  \n",
       "4                    0  \n",
       "\n",
       "[5 rows x 28 columns]"
      ]
     },
     "execution_count": 4,
     "metadata": {},
     "output_type": "execute_result"
    }
   ],
   "source": [
    "#Чтобы посмотреть первые N строк данных используем команду\n",
    "data.head()"
   ]
  },
  {
   "cell_type": "code",
   "execution_count": 5,
   "metadata": {
    "colab": {
     "autoexec": {
      "startup": false,
      "wait_interval": 0
     }
    },
    "colab_type": "code",
    "id": "9cbOJLa9TVnA",
    "outputId": "2bcc5c93-be93-44c3-f19f-d37cfec901de"
   },
   "outputs": [
    {
     "name": "stdout",
     "output_type": "stream",
     "text": [
      "<class 'pandas.core.frame.DataFrame'>\n",
      "RangeIndex: 5043 entries, 0 to 5042\n",
      "Data columns (total 28 columns):\n",
      "color                        5024 non-null object\n",
      "director_name                4939 non-null object\n",
      "num_critic_for_reviews       4993 non-null float64\n",
      "duration                     5028 non-null float64\n",
      "director_facebook_likes      4939 non-null float64\n",
      "actor_3_facebook_likes       5020 non-null float64\n",
      "actor_2_name                 5030 non-null object\n",
      "actor_1_facebook_likes       5036 non-null float64\n",
      "gross                        4159 non-null float64\n",
      "genres                       5043 non-null object\n",
      "actor_1_name                 5036 non-null object\n",
      "movie_title                  5043 non-null object\n",
      "num_voted_users              5043 non-null int64\n",
      "cast_total_facebook_likes    5043 non-null int64\n",
      "actor_3_name                 5020 non-null object\n",
      "facenumber_in_poster         5030 non-null float64\n",
      "plot_keywords                4890 non-null object\n",
      "movie_imdb_link              5043 non-null object\n",
      "num_user_for_reviews         5022 non-null float64\n",
      "language                     5031 non-null object\n",
      "country                      5038 non-null object\n",
      "content_rating               4740 non-null object\n",
      "budget                       4551 non-null float64\n",
      "title_year                   4935 non-null float64\n",
      "actor_2_facebook_likes       5030 non-null float64\n",
      "imdb_score                   5043 non-null float64\n",
      "aspect_ratio                 4714 non-null float64\n",
      "movie_facebook_likes         5043 non-null int64\n",
      "dtypes: float64(13), int64(3), object(12)\n",
      "memory usage: 1.1+ MB\n"
     ]
    }
   ],
   "source": [
    "#Информация о составе колонок и их типе, числе заполненных записей.\n",
    "data.info()"
   ]
  },
  {
   "cell_type": "markdown",
   "metadata": {
    "colab_type": "text",
    "id": "KXm94SxiTVnD"
   },
   "source": [
    "### Предобработка данных"
   ]
  },
  {
   "cell_type": "code",
   "execution_count": 6,
   "metadata": {
    "colab": {
     "autoexec": {
      "startup": false,
      "wait_interval": 0
     }
    },
    "colab_type": "code",
    "id": "zGmjY46GTVnD",
    "outputId": "582aab82-851e-4fbe-8d40-b0ac19be369d"
   },
   "outputs": [
    {
     "name": "stdout",
     "output_type": "stream",
     "text": [
      "color\n",
      "director_name\n",
      "num_critic_for_reviews\n",
      "duration\n",
      "director_facebook_likes\n",
      "actor_3_facebook_likes\n",
      "actor_2_name\n",
      "actor_1_facebook_likes\n",
      "gross\n",
      "genres\n",
      "actor_1_name\n",
      "movie_title\n",
      "num_voted_users\n",
      "cast_total_facebook_likes\n",
      "actor_3_name\n",
      "facenumber_in_poster\n",
      "plot_keywords\n",
      "movie_imdb_link\n",
      "num_user_for_reviews\n",
      "language\n",
      "country\n",
      "content_rating\n",
      "budget\n",
      "title_year\n",
      "actor_2_facebook_likes\n",
      "imdb_score\n",
      "aspect_ratio\n",
      "movie_facebook_likes\n"
     ]
    }
   ],
   "source": [
    "\"\"\"Выделим имена колонок для этого воспользуемся циклом FOR\"\"\"\n",
    "for i in data.columns:\n",
    "    print(i)"
   ]
  },
  {
   "cell_type": "code",
   "execution_count": 7,
   "metadata": {},
   "outputs": [
    {
     "name": "stdout",
     "output_type": "stream",
     "text": [
      "<class 'pandas.core.frame.DataFrame'>\n",
      "RangeIndex: 5043 entries, 0 to 5042\n",
      "Data columns (total 28 columns):\n",
      "color                        5024 non-null object\n",
      "director_name                4939 non-null object\n",
      "num_critic_for_reviews       4993 non-null float64\n",
      "duration                     5028 non-null float64\n",
      "director_facebook_likes      4939 non-null float64\n",
      "actor_3_facebook_likes       5020 non-null float64\n",
      "actor_2_name                 5030 non-null object\n",
      "actor_1_facebook_likes       5036 non-null float64\n",
      "gross                        4159 non-null float64\n",
      "genres                       5043 non-null object\n",
      "actor_1_name                 5036 non-null object\n",
      "movie_title                  5043 non-null object\n",
      "num_voted_users              5043 non-null int64\n",
      "cast_total_facebook_likes    5043 non-null int64\n",
      "actor_3_name                 5020 non-null object\n",
      "facenumber_in_poster         5030 non-null float64\n",
      "plot_keywords                4890 non-null object\n",
      "movie_imdb_link              5043 non-null object\n",
      "num_user_for_reviews         5022 non-null float64\n",
      "language                     5031 non-null object\n",
      "country                      5038 non-null object\n",
      "content_rating               4740 non-null object\n",
      "budget                       4551 non-null float64\n",
      "title_year                   4935 non-null float64\n",
      "actor_2_facebook_likes       5030 non-null float64\n",
      "imdb_score                   5043 non-null float64\n",
      "aspect_ratio                 4714 non-null float64\n",
      "movie_facebook_likes         5043 non-null int64\n",
      "dtypes: float64(13), int64(3), object(12)\n",
      "memory usage: 1.1+ MB\n"
     ]
    }
   ],
   "source": [
    "data.info()"
   ]
  },
  {
   "cell_type": "code",
   "execution_count": 8,
   "metadata": {
    "colab": {
     "autoexec": {
      "startup": false,
      "wait_interval": 0
     }
    },
    "colab_type": "code",
    "collapsed": true,
    "id": "UO63gaHNTVnH"
   },
   "outputs": [],
   "source": [
    "\"\"\"Выберем в качестве целевой переменной число лайков в фейсбук к фильму (т.е. популярность фильма в соц.сетях)\"\"\"\n",
    "target_col=['movie_facebook_likes']"
   ]
  },
  {
   "cell_type": "code",
   "execution_count": 9,
   "metadata": {
    "colab": {
     "autoexec": {
      "startup": false,
      "wait_interval": 0
     }
    },
    "colab_type": "code",
    "id": "PqgBOBYMTVnM",
    "outputId": "adfd8612-1529-4790-f6ff-0a23d1d40eda"
   },
   "outputs": [
    {
     "data": {
      "text/plain": [
       "color                                                                    Color\n",
       "director_name                                                    James Cameron\n",
       "num_critic_for_reviews                                                     723\n",
       "duration                                                                   178\n",
       "director_facebook_likes                                                      0\n",
       "actor_3_facebook_likes                                                     855\n",
       "actor_2_name                                                  Joel David Moore\n",
       "actor_1_facebook_likes                                                    1000\n",
       "gross                                                              7.60506e+08\n",
       "genres                                         Action|Adventure|Fantasy|Sci-Fi\n",
       "actor_1_name                                                       CCH Pounder\n",
       "movie_title                                                            Avatar \n",
       "num_voted_users                                                         886204\n",
       "cast_total_facebook_likes                                                 4834\n",
       "actor_3_name                                                         Wes Studi\n",
       "facenumber_in_poster                                                         0\n",
       "plot_keywords                           avatar|future|marine|native|paraplegic\n",
       "movie_imdb_link              http://www.imdb.com/title/tt0499549/?ref_=fn_t...\n",
       "num_user_for_reviews                                                      3054\n",
       "language                                                               English\n",
       "country                                                                    USA\n",
       "content_rating                                                           PG-13\n",
       "budget                                                                2.37e+08\n",
       "title_year                                                                2009\n",
       "actor_2_facebook_likes                                                     936\n",
       "imdb_score                                                                 7.9\n",
       "aspect_ratio                                                              1.78\n",
       "movie_facebook_likes                                                     33000\n",
       "Name: 0, dtype: object"
      ]
     },
     "execution_count": 9,
     "metadata": {},
     "output_type": "execute_result"
    }
   ],
   "source": [
    "data[target_col].iloc[:1]\n",
    "data.iloc[0][1]\n",
    "data.iloc[0, :]\n",
    "\n"
   ]
  },
  {
   "cell_type": "code",
   "execution_count": 10,
   "metadata": {
    "colab": {
     "autoexec": {
      "startup": false,
      "wait_interval": 0
     }
    },
    "colab_type": "code",
    "collapsed": true,
    "id": "sFkE0cq8TVnO"
   },
   "outputs": [],
   "source": [
    "\"\"\"Выделим только вещественные признаки для простоты, воспользуясь list_comprehension\"\"\"\n",
    "float_col=[col for col in data.columns if data[col].dtypes!=object and col not in target_col]"
   ]
  },
  {
   "cell_type": "code",
   "execution_count": 11,
   "metadata": {
    "colab": {
     "autoexec": {
      "startup": false,
      "wait_interval": 0
     }
    },
    "colab_type": "code",
    "id": "E91fXN0cTVnQ",
    "outputId": "72374bcd-f3dc-4478-9f38-1c82b8e130b7"
   },
   "outputs": [
    {
     "data": {
      "text/plain": [
       "['num_critic_for_reviews',\n",
       " 'duration',\n",
       " 'director_facebook_likes',\n",
       " 'actor_3_facebook_likes',\n",
       " 'actor_1_facebook_likes',\n",
       " 'gross',\n",
       " 'num_voted_users',\n",
       " 'cast_total_facebook_likes',\n",
       " 'facenumber_in_poster',\n",
       " 'num_user_for_reviews',\n",
       " 'budget',\n",
       " 'title_year',\n",
       " 'actor_2_facebook_likes',\n",
       " 'imdb_score',\n",
       " 'aspect_ratio']"
      ]
     },
     "execution_count": 11,
     "metadata": {},
     "output_type": "execute_result"
    }
   ],
   "source": [
    "float_col"
   ]
  },
  {
   "cell_type": "code",
   "execution_count": 12,
   "metadata": {
    "colab": {
     "autoexec": {
      "startup": false,
      "wait_interval": 0
     }
    },
    "colab_type": "code",
    "collapsed": true,
    "id": "hkU62jDRTVnW"
   },
   "outputs": [],
   "source": [
    "\"\"\"Восстановим пропуски в данных 3 способами\"\"\"\n",
    "#1. Медианой\n",
    "data_median=data[float_col].fillna(data[float_col].median())\n",
    "data_mean=data[float_col].fillna(data[float_col].mean())\n",
    "data_0=data[float_col].fillna(0)"
   ]
  },
  {
   "cell_type": "code",
   "execution_count": 13,
   "metadata": {
    "colab": {
     "autoexec": {
      "startup": false,
      "wait_interval": 0
     }
    },
    "colab_type": "code",
    "id": "riabVp3XTVnZ",
    "outputId": "7a275820-f405-4893-8ab5-8af4287edf32"
   },
   "outputs": [
    {
     "data": {
      "text/plain": [
       "array([[<matplotlib.axes._subplots.AxesSubplot object at 0x000001EDBF27B8D0>,\n",
       "        <matplotlib.axes._subplots.AxesSubplot object at 0x000001EDBF8119E8>,\n",
       "        <matplotlib.axes._subplots.AxesSubplot object at 0x000001EDBF84AE48>,\n",
       "        <matplotlib.axes._subplots.AxesSubplot object at 0x000001EDBF857F60>],\n",
       "       [<matplotlib.axes._subplots.AxesSubplot object at 0x000001EDBF8B1C50>,\n",
       "        <matplotlib.axes._subplots.AxesSubplot object at 0x000001EDBF8B1C88>,\n",
       "        <matplotlib.axes._subplots.AxesSubplot object at 0x000001EDBF924B70>,\n",
       "        <matplotlib.axes._subplots.AxesSubplot object at 0x000001EDBF9660F0>],\n",
       "       [<matplotlib.axes._subplots.AxesSubplot object at 0x000001EDBF98E4E0>,\n",
       "        <matplotlib.axes._subplots.AxesSubplot object at 0x000001EDBF9CA4E0>,\n",
       "        <matplotlib.axes._subplots.AxesSubplot object at 0x000001EDBFA024E0>,\n",
       "        <matplotlib.axes._subplots.AxesSubplot object at 0x000001EDBFA39A20>],\n",
       "       [<matplotlib.axes._subplots.AxesSubplot object at 0x000001EDBFA5EE10>,\n",
       "        <matplotlib.axes._subplots.AxesSubplot object at 0x000001EDBFA9DE10>,\n",
       "        <matplotlib.axes._subplots.AxesSubplot object at 0x000001EDBFAD5E10>,\n",
       "        <matplotlib.axes._subplots.AxesSubplot object at 0x000001EDBFB18390>]], dtype=object)"
      ]
     },
     "execution_count": 13,
     "metadata": {},
     "output_type": "execute_result"
    },
    {
     "data": {
      "image/png": "[encoded data removed]",
      "text/plain": [
       "<matplotlib.figure.Figure at 0x1edbf27b0b8>"
      ]
     },
     "metadata": {},
     "output_type": "display_data"
    }
   ],
   "source": [
    "\"\"\"Посмотрим на распределение признаков\"\"\"\n",
    "\n",
    "data_median.hist(figsize=(15,12))"
   ]
  },
  {
   "cell_type": "code",
   "execution_count": 15,
   "metadata": {
    "colab": {
     "autoexec": {
      "startup": false,
      "wait_interval": 0
     }
    },
    "colab_type": "code",
    "id": "KGe2mkdZTVnc",
    "outputId": "838ea932-a342-494e-dd68-8b3d72a9996e"
   },
   "outputs": [
    {
     "data": {
      "text/plain": [
       "array([[<matplotlib.axes._subplots.AxesSubplot object at 0x000001CFC1589B38>,\n",
       "        <matplotlib.axes._subplots.AxesSubplot object at 0x000001CFC1651198>,\n",
       "        <matplotlib.axes._subplots.AxesSubplot object at 0x000001CFC167E128>,\n",
       "        <matplotlib.axes._subplots.AxesSubplot object at 0x000001CFC16B6128>],\n",
       "       [<matplotlib.axes._subplots.AxesSubplot object at 0x000001CFC16F2128>,\n",
       "        <matplotlib.axes._subplots.AxesSubplot object at 0x000001CFC16F2160>,\n",
       "        <matplotlib.axes._subplots.AxesSubplot object at 0x000001CFC1753BA8>,\n",
       "        <matplotlib.axes._subplots.AxesSubplot object at 0x000001CFC17980B8>],\n",
       "       [<matplotlib.axes._subplots.AxesSubplot object at 0x000001CFC17CF5F8>,\n",
       "        <matplotlib.axes._subplots.AxesSubplot object at 0x000001CFC176D2B0>,\n",
       "        <matplotlib.axes._subplots.AxesSubplot object at 0x000001CFC1365B38>,\n",
       "        <matplotlib.axes._subplots.AxesSubplot object at 0x000001CFC0E6D5F8>],\n",
       "       [<matplotlib.axes._subplots.AxesSubplot object at 0x000001CFC0F49C18>,\n",
       "        <matplotlib.axes._subplots.AxesSubplot object at 0x000001CFC0F7FE10>,\n",
       "        <matplotlib.axes._subplots.AxesSubplot object at 0x000001CFC0DAC278>,\n",
       "        <matplotlib.axes._subplots.AxesSubplot object at 0x000001CFC15EF8D0>]], dtype=object)"
      ]
     },
     "execution_count": 15,
     "metadata": {},
     "output_type": "execute_result"
    },
    {
     "data": {
      "image/png": "[encoded data removed]",
      "text/plain": [
       "<matplotlib.figure.Figure at 0x1cfc0aee710>"
      ]
     },
     "metadata": {},
     "output_type": "display_data"
    }
   ],
   "source": [
    "\"\"\"Посмотрим на распределение признаков\"\"\"\n",
    "data_0.hist(figsize=(15,12))\n",
    "\n"
   ]
  },
  {
   "cell_type": "markdown",
   "metadata": {
    "colab_type": "text",
    "id": "D-ic8gbxTVni"
   },
   "source": [
    "#### Выводы:\n",
    "Восстановление при помощи зануления пропусков смещает выборку к \"0\"\n",
    "Поэтому воспользуемся по желанию выборкой восстановленной по медиане или среднему"
   ]
  },
  {
   "cell_type": "markdown",
   "metadata": {
    "colab_type": "text",
    "id": "w8bs3B29TVnj"
   },
   "source": [
    "------------------------ "
   ]
  },
  {
   "cell_type": "markdown",
   "metadata": {
    "colab_type": "text",
    "id": "IOmwYvLHTVnk"
   },
   "source": [
    "### Моделирование"
   ]
  },
  {
   "cell_type": "code",
   "execution_count": 16,
   "metadata": {
    "colab": {
     "autoexec": {
      "startup": false,
      "wait_interval": 0
     }
    },
    "colab_type": "code",
    "collapsed": true,
    "id": "zQhEiQWhTVnl"
   },
   "outputs": [],
   "source": [
    "X=data_median\n",
    "Y=data[target_col]"
   ]
  },
  {
   "cell_type": "code",
   "execution_count": 17,
   "metadata": {
    "colab": {
     "autoexec": {
      "startup": false,
      "wait_interval": 0
     }
    },
    "colab_type": "code",
    "collapsed": true,
    "id": "rmC_YUZfTVno"
   },
   "outputs": [],
   "source": [
    "X_train, X_test, y_train, y_test=train_test_split(X, Y, test_size=0.2)"
   ]
  },
  {
   "cell_type": "markdown",
   "metadata": {
    "colab_type": "text",
    "id": "WNhaBj8NTVnr"
   },
   "source": [
    "### K-NN"
   ]
  },
  {
   "cell_type": "code",
   "execution_count": 18,
   "metadata": {
    "colab": {
     "autoexec": {
      "startup": false,
      "wait_interval": 0
     }
    },
    "colab_type": "code",
    "id": "IpBtCJpuTVnr",
    "outputId": "5e9c3bce-8122-4526-db94-ffc8edeb2d3f"
   },
   "outputs": [
    {
     "data": {
      "text/plain": [
       "MinMaxScaler(copy=True, feature_range=(0, 1))"
      ]
     },
     "execution_count": 18,
     "metadata": {},
     "output_type": "execute_result"
    }
   ],
   "source": [
    "\"\"\"Т.к. данный представлены в разных масштабах произведем нормирование данных к [0,1]\"\"\"\n",
    "MinMax=MinMaxScaler()\n",
    "MinMax.fit(X_train)"
   ]
  },
  {
   "cell_type": "code",
   "execution_count": 19,
   "metadata": {
    "colab": {
     "autoexec": {
      "startup": false,
      "wait_interval": 0
     }
    },
    "colab_type": "code",
    "collapsed": true,
    "id": "1n6PeZ5QTVnt"
   },
   "outputs": [],
   "source": [
    "X_t_minmax=MinMax.transform(X_train)\n",
    "X_te_minmax=MinMax.transform(X_test)"
   ]
  },
  {
   "cell_type": "code",
   "execution_count": 20,
   "metadata": {
    "colab": {
     "autoexec": {
      "startup": false,
      "wait_interval": 0
     }
    },
    "colab_type": "code",
    "collapsed": true,
    "id": "1sxH2F5ETVnv"
   },
   "outputs": [],
   "source": [
    "knn=KNeighborsRegressor(6)"
   ]
  },
  {
   "cell_type": "code",
   "execution_count": 21,
   "metadata": {
    "colab": {
     "autoexec": {
      "startup": false,
      "wait_interval": 0
     }
    },
    "colab_type": "code",
    "id": "SlIrxK7ZTVnx",
    "outputId": "11f46b3a-f52b-480d-ef63-dbd5e94d8ebc"
   },
   "outputs": [
    {
     "data": {
      "text/plain": [
       "KNeighborsRegressor(algorithm='auto', leaf_size=30, metric='minkowski',\n",
       "          metric_params=None, n_jobs=1, n_neighbors=6, p=2,\n",
       "          weights='uniform')"
      ]
     },
     "execution_count": 21,
     "metadata": {},
     "output_type": "execute_result"
    }
   ],
   "source": [
    "knn.fit(X_t_minmax, y_train)"
   ]
  },
  {
   "cell_type": "code",
   "execution_count": 22,
   "metadata": {
    "colab": {
     "autoexec": {
      "startup": false,
      "wait_interval": 0
     }
    },
    "colab_type": "code",
    "id": "4MNBqkwfTVnz",
    "outputId": "8d0de3e9-1ef9-44d4-eb07-ecccddf6200b"
   },
   "outputs": [
    {
     "data": {
      "text/plain": [
       "0.69334461484049048"
      ]
     },
     "execution_count": 22,
     "metadata": {},
     "output_type": "execute_result"
    }
   ],
   "source": [
    "knn.score(X_te_minmax,y_test)"
   ]
  },
  {
   "cell_type": "code",
   "execution_count": 23,
   "metadata": {
    "colab": {
     "autoexec": {
      "startup": false,
      "wait_interval": 0
     }
    },
    "colab_type": "code",
    "id": "buQKkE8tTVn2",
    "outputId": "2837a755-031b-41e4-8924-8c1e4df4d5bc"
   },
   "outputs": [
    {
     "name": "stdout",
     "output_type": "stream",
     "text": [
      "K is:  2 |R^2 is:  0.648940490085\n",
      "K is:  3 |R^2 is:  0.675990108818\n",
      "K is:  4 |R^2 is:  0.678865078384\n",
      "K is:  5 |R^2 is:  0.683284488546\n",
      "K is:  6 |R^2 is:  0.69334461484\n",
      "K is:  7 |R^2 is:  0.690215988384\n",
      "K is:  8 |R^2 is:  0.682714280747\n",
      "K is:  9 |R^2 is:  0.672361704342\n",
      "K is:  10 |R^2 is:  0.672096077072\n",
      "K is:  11 |R^2 is:  0.681737122879\n",
      "K is:  12 |R^2 is:  0.685537740523\n",
      "K is:  13 |R^2 is:  0.688213818861\n",
      "K is:  14 |R^2 is:  0.690755456851\n"
     ]
    },
    {
     "data": {
      "image/png": "[encoded data removed]",
      "text/plain": [
       "<matplotlib.figure.Figure at 0x1cfc0f91cc0>"
      ]
     },
     "metadata": {},
     "output_type": "display_data"
    }
   ],
   "source": [
    "\"\"\"Изобразим график обучения\"\"\"\n",
    "scores=[]\n",
    "for k in range(2, 15):\n",
    "    knn=KNeighborsRegressor(k).fit(X_t_minmax, y_train)\n",
    "    scores.append(knn.score(X_te_minmax,y_test))\n",
    "    print('K is: ', k,'|R^2 is: ', knn.score(X_te_minmax,y_test))\n",
    "plt.plot(range(2, 15), scores, marker='s');\n",
    "plt.xlabel('$k$')\n",
    "plt.ylabel('$R^2$');"
   ]
  },
  {
   "cell_type": "code",
   "execution_count": 70,
   "metadata": {
    "colab": {
     "autoexec": {
      "startup": false,
      "wait_interval": 0
     }
    },
    "colab_type": "code",
    "id": "LDHUq3QDTVn5",
    "outputId": "90515cb0-a8fe-4665-a2e2-a565f1c4f059"
   },
   "outputs": [
    {
     "name": "stdout",
     "output_type": "stream",
     "text": [
      "K is:  2 |R^2 is:  -0.144563761935\n",
      "K is:  3 |R^2 is:  -0.0367252929425\n",
      "K is:  4 |R^2 is:  0.00446029484361\n",
      "K is:  5 |R^2 is:  0.035129319927\n",
      "K is:  6 |R^2 is:  0.0587313218177\n",
      "K is:  7 |R^2 is:  0.0755083126272\n",
      "K is:  8 |R^2 is:  0.0993097022803\n",
      "K is:  9 |R^2 is:  0.103726939435\n",
      "K is:  10 |R^2 is:  0.110526060969\n",
      "K is:  11 |R^2 is:  0.125156038619\n",
      "K is:  12 |R^2 is:  0.141682683159\n",
      "K is:  13 |R^2 is:  0.149719638926\n",
      "K is:  14 |R^2 is:  0.157107002012\n",
      "K is:  15 |R^2 is:  0.159602553803\n",
      "K is:  16 |R^2 is:  0.1575199621\n",
      "K is:  17 |R^2 is:  0.153007484604\n",
      "K is:  18 |R^2 is:  0.145228139438\n",
      "K is:  19 |R^2 is:  0.146392651901\n",
      "K is:  20 |R^2 is:  0.146142576141\n"
     ]
    },
    {
     "data": {
      "image/png": "[encoded data removed]",
      "text/plain": [
       "<matplotlib.figure.Figure at 0x1d0b361a2b0>"
      ]
     },
     "metadata": {},
     "output_type": "display_data"
    }
   ],
   "source": [
    "\"\"\"Изобразим график обучения но для не нормированных данных\"\"\"\n",
    "scores=[]\n",
    "for k in range(2, 21):\n",
    "    knn=KNeighborsRegressor(k).fit(X_train, y_train)\n",
    "    scores.append(knn.score(X_test,y_test))\n",
    "    print('K is: ', k,'|R^2 is: ', knn.score(X_test,y_test))\n",
    "plt.plot(range(2, 21), scores, marker='s');\n",
    "plt.xlabel('$k$')\n",
    "plt.ylabel('$R^2$');"
   ]
  },
  {
   "cell_type": "markdown",
   "metadata": {
    "colab_type": "text",
    "id": "Ws5viavjTVn8"
   },
   "source": [
    "### LinearRegression"
   ]
  },
  {
   "cell_type": "code",
   "execution_count": 71,
   "metadata": {
    "colab": {
     "autoexec": {
      "startup": false,
      "wait_interval": 0
     }
    },
    "colab_type": "code",
    "collapsed": true,
    "id": "jYnD3hgeTVn9"
   },
   "outputs": [],
   "source": [
    "lr=LinearRegression()\n",
    "ridge=Ridge(alpha=5)\n",
    "lasso=Lasso(alpha=10)"
   ]
  },
  {
   "cell_type": "code",
   "execution_count": 72,
   "metadata": {
    "colab": {
     "autoexec": {
      "startup": false,
      "wait_interval": 0
     }
    },
    "colab_type": "code",
    "id": "HqTZ7SuCTVn_",
    "outputId": "88c54dc2-ba7a-4c35-a51a-93fda2ee7cd9"
   },
   "outputs": [
    {
     "data": {
      "text/plain": [
       "StandardScaler(copy=True, with_mean=True, with_std=True)"
      ]
     },
     "execution_count": 72,
     "metadata": {},
     "output_type": "execute_result"
    }
   ],
   "source": [
    "\"\"\"Т.к. линейные модели чувствительны к масштабу и требуют `нормальности` \"\"\"\n",
    "std_scaler=StandardScaler()\n",
    "std_scaler.fit(X_train)"
   ]
  },
  {
   "cell_type": "code",
   "execution_count": 73,
   "metadata": {
    "colab": {
     "autoexec": {
      "startup": false,
      "wait_interval": 0
     }
    },
    "colab_type": "code",
    "collapsed": true,
    "id": "ydqbSlCZTVoD"
   },
   "outputs": [],
   "source": [
    "X_t_std=std_scaler.transform(X_train)\n",
    "X_te_std=std_scaler.transform(X_test)"
   ]
  },
  {
   "cell_type": "code",
   "execution_count": 74,
   "metadata": {
    "colab": {
     "autoexec": {
      "startup": false,
      "wait_interval": 0
     }
    },
    "colab_type": "code",
    "id": "KJnfe4EKTVoF",
    "outputId": "46226059-b6f9-4bd5-9428-cc09a8175871"
   },
   "outputs": [
    {
     "name": "stderr",
     "output_type": "stream",
     "text": [
      "C:\\Users\\AlexConda\\Anaconda3\\lib\\site-packages\\sklearn\\linear_model\\coordinate_descent.py:491: ConvergenceWarning: Objective did not converge. You might want to increase the number of iterations. Fitting data with very small alpha may cause precision problems.\n",
      "  ConvergenceWarning)\n"
     ]
    },
    {
     "data": {
      "text/plain": [
       "Lasso(alpha=10, copy_X=True, fit_intercept=True, max_iter=1000,\n",
       "   normalize=False, positive=False, precompute=False, random_state=None,\n",
       "   selection='cyclic', tol=0.0001, warm_start=False)"
      ]
     },
     "execution_count": 74,
     "metadata": {},
     "output_type": "execute_result"
    }
   ],
   "source": [
    "lr.fit(X_t_std, y_train)\n",
    "ridge.fit(X_t_std, y_train)\n",
    "lasso.fit(X_t_std, y_train)"
   ]
  },
  {
   "cell_type": "code",
   "execution_count": 75,
   "metadata": {
    "colab": {
     "autoexec": {
      "startup": false,
      "wait_interval": 0
     }
    },
    "colab_type": "code",
    "collapsed": true,
    "id": "saZY65ALTVoI"
   },
   "outputs": [],
   "source": [
    "models={\n",
    "   'Linear_regression': lr, \n",
    "    'Ridge': ridge, \n",
    "    'Lasso': lasso\n",
    "}"
   ]
  },
  {
   "cell_type": "code",
   "execution_count": 76,
   "metadata": {
    "colab": {
     "autoexec": {
      "startup": false,
      "wait_interval": 0
     }
    },
    "colab_type": "code",
    "id": "2m6XW8oqTVoL",
    "outputId": "f87fedee-dc7b-406d-8e42-c6c1ee2bd3e6"
   },
   "outputs": [
    {
     "name": "stdout",
     "output_type": "stream",
     "text": [
      "Linear_regression 0.564321292885\n",
      "Ridge 0.566428495119\n",
      "Lasso 0.567295175664\n"
     ]
    }
   ],
   "source": [
    "for i in models:\n",
    "    print(i, models[i].score(X_te_std, y_test))"
   ]
  },
  {
   "cell_type": "markdown",
   "metadata": {
    "colab_type": "text",
    "id": "DEoShvdZTVoZ"
   },
   "source": [
    "### DTrees"
   ]
  },
  {
   "cell_type": "code",
   "execution_count": 80,
   "metadata": {
    "colab": {
     "autoexec": {
      "startup": false,
      "wait_interval": 0
     }
    },
    "colab_type": "code",
    "collapsed": true,
    "id": "fAC8bZXeTVoa"
   },
   "outputs": [],
   "source": [
    "dtree=DecisionTreeRegressor(random_state=1234)"
   ]
  },
  {
   "cell_type": "code",
   "execution_count": 81,
   "metadata": {
    "colab": {
     "autoexec": {
      "startup": false,
      "wait_interval": 0
     }
    },
    "colab_type": "code",
    "id": "K_7_hGCuTVoc",
    "outputId": "de21a306-0183-466c-f9ef-dab8100e5938"
   },
   "outputs": [
    {
     "data": {
      "text/plain": [
       "DecisionTreeRegressor(criterion='mse', max_depth=None, max_features=None,\n",
       "           max_leaf_nodes=None, min_impurity_decrease=0.0,\n",
       "           min_impurity_split=None, min_samples_leaf=1,\n",
       "           min_samples_split=2, min_weight_fraction_leaf=0.0,\n",
       "           presort=False, random_state=1234, splitter='best')"
      ]
     },
     "execution_count": 81,
     "metadata": {},
     "output_type": "execute_result"
    }
   ],
   "source": [
    "dtree.fit(X_train, y_train)"
   ]
  },
  {
   "cell_type": "code",
   "execution_count": 82,
   "metadata": {
    "colab": {
     "autoexec": {
      "startup": false,
      "wait_interval": 0
     }
    },
    "colab_type": "code",
    "id": "1r3Kl7aKTVoe",
    "outputId": "ee1113d8-b389-4a3f-b5ec-a3b66654e625"
   },
   "outputs": [
    {
     "data": {
      "text/plain": [
       "0.6473764158979568"
      ]
     },
     "execution_count": 82,
     "metadata": {},
     "output_type": "execute_result"
    }
   ],
   "source": [
    "dtree.score(X_test, y_test)"
   ]
  },
  {
   "cell_type": "code",
   "execution_count": 83,
   "metadata": {
    "colab": {
     "autoexec": {
      "startup": false,
      "wait_interval": 0
     }
    },
    "colab_type": "code",
    "id": "27PgxO-jTVog",
    "outputId": "b25875fc-5efe-4b9d-bfa5-1496ca69865e"
   },
   "outputs": [
    {
     "name": "stdout",
     "output_type": "stream",
     "text": [
      "Depth is:  1 |R^2 is:  0.441673590712\n",
      "Depth is:  2 |R^2 is:  0.586370763074\n",
      "Depth is:  3 |R^2 is:  0.635246229357\n",
      "Depth is:  4 |R^2 is:  0.720900857499\n",
      "Depth is:  5 |R^2 is:  0.726239179215\n",
      "Depth is:  6 |R^2 is:  0.717847293525\n",
      "Depth is:  7 |R^2 is:  0.74116409402\n",
      "Depth is:  8 |R^2 is:  0.63817950817\n",
      "Depth is:  9 |R^2 is:  0.615545492324\n",
      "Depth is:  10 |R^2 is:  0.646499125441\n",
      "Depth is:  11 |R^2 is:  0.614593614301\n",
      "Depth is:  12 |R^2 is:  0.657154875747\n",
      "Depth is:  13 |R^2 is:  0.644503514806\n",
      "Depth is:  14 |R^2 is:  0.614773452075\n",
      "Depth is:  15 |R^2 is:  0.639658610214\n"
     ]
    },
    {
     "data": {
      "image/png": "[encoded data removed]",
      "text/plain": [
       "<matplotlib.figure.Figure at 0x1d0b363c5f8>"
      ]
     },
     "metadata": {},
     "output_type": "display_data"
    }
   ],
   "source": [
    "\"\"\"Изобразим график обучения и посмотрим как глубина дерева влияет на точность\"\"\"\n",
    "scores=[]\n",
    "for n in np.arange(1,16):\n",
    "    dtree=DecisionTreeRegressor(max_depth=n, random_state=1234).fit(X_train, y_train)\n",
    "    scores.append(dtree.score(X_test, y_test))\n",
    "    print('Depth is: ', n,'|R^2 is: ', dtree.score(X_test, y_test))\n",
    "plt.plot(range(1,16), scores, marker='s');\n",
    "plt.xlabel('$k$')\n",
    "plt.ylabel('$R^2$');"
   ]
  },
  {
   "cell_type": "code",
   "execution_count": 84,
   "metadata": {},
   "outputs": [
    {
     "data": {
      "text/plain": [
       "(4034, 15)"
      ]
     },
     "execution_count": 84,
     "metadata": {},
     "output_type": "execute_result"
    }
   ],
   "source": [
    "X_train.shape"
   ]
  },
  {
   "cell_type": "code",
   "execution_count": 86,
   "metadata": {
    "colab": {
     "autoexec": {
      "startup": false,
      "wait_interval": 0
     }
    },
    "colab_type": "code",
    "id": "xwvUsu4sTVok",
    "outputId": "e05d5229-b0aa-44b5-be5e-eecfc4c7d7f3"
   },
   "outputs": [
    {
     "name": "stdout",
     "output_type": "stream",
     "text": [
      "MaxFeatures is:  2 |R^2 is:  0.4702940024\n",
      "MaxFeatures is:  3 |R^2 is:  0.625354772675\n",
      "MaxFeatures is:  4 |R^2 is:  0.648378992005\n",
      "MaxFeatures is:  5 |R^2 is:  0.69885433581\n",
      "MaxFeatures is:  6 |R^2 is:  0.647958751438\n",
      "MaxFeatures is:  7 |R^2 is:  0.674512959132\n",
      "MaxFeatures is:  8 |R^2 is:  0.738991960899\n",
      "MaxFeatures is:  9 |R^2 is:  0.747081485935\n",
      "MaxFeatures is:  10 |R^2 is:  0.732523606068\n",
      "MaxFeatures is:  11 |R^2 is:  0.699334604413\n",
      "MaxFeatures is:  12 |R^2 is:  0.749128529267\n",
      "MaxFeatures is:  13 |R^2 is:  0.736376028268\n",
      "MaxFeatures is:  14 |R^2 is:  0.782611698769\n",
      "MaxFeatures is:  15 |R^2 is:  0.717847293525\n"
     ]
    },
    {
     "data": {
      "image/png": "[encoded data removed]",
      "text/plain": [
       "<matplotlib.figure.Figure at 0x1d0b3691080>"
      ]
     },
     "metadata": {},
     "output_type": "display_data"
    }
   ],
   "source": [
    "\"\"\"Изобразим график обучения и посмотрим как ширина дерева влияет на точность\"\"\"\n",
    "scores=[]\n",
    "\n",
    "for n in np.arange(2,16):\n",
    "    dtree=DecisionTreeRegressor(max_depth=6, max_features=n, random_state=41).fit(X_train, y_train)\n",
    "    scores.append(dtree.score(X_test, y_test))\n",
    "    print('MaxFeatures is: ', n,'|R^2 is: ', dtree.score(X_test, y_test))\n",
    "plt.plot(range(2, 16), scores, marker='s');\n",
    "plt.xlabel('$k$')\n",
    "plt.ylabel('$R^2$');"
   ]
  },
  {
   "cell_type": "markdown",
   "metadata": {
    "colab_type": "text",
    "id": "BV6bmUmyTVoq"
   },
   "source": [
    "### BONUS RandomForestRegressor"
   ]
  },
  {
   "cell_type": "code",
   "execution_count": 87,
   "metadata": {
    "colab": {
     "autoexec": {
      "startup": false,
      "wait_interval": 0
     }
    },
    "colab_type": "code",
    "collapsed": true,
    "id": "jtaY0peKTVoq"
   },
   "outputs": [],
   "source": [
    "from sklearn.ensemble import RandomForestRegressor"
   ]
  },
  {
   "cell_type": "code",
   "execution_count": 88,
   "metadata": {
    "colab": {
     "autoexec": {
      "startup": false,
      "wait_interval": 0
     }
    },
    "colab_type": "code",
    "collapsed": true,
    "id": "mynGwc3eTVot"
   },
   "outputs": [],
   "source": [
    "RF_reg=RandomForestRegressor(n_estimators=15,\n",
    "                               oob_score=True,\n",
    "                               random_state=1)"
   ]
  },
  {
   "cell_type": "code",
   "execution_count": 89,
   "metadata": {
    "colab": {
     "autoexec": {
      "startup": false,
      "wait_interval": 0
     }
    },
    "colab_type": "code",
    "id": "N38xriIETVow",
    "outputId": "6df6b34c-7a76-4432-e747-325c9cc175d9"
   },
   "outputs": [
    {
     "name": "stderr",
     "output_type": "stream",
     "text": [
      "C:\\Users\\AlexConda\\Anaconda3\\lib\\site-packages\\ipykernel_launcher.py:1: DataConversionWarning: A column-vector y was passed when a 1d array was expected. Please change the shape of y to (n_samples,), for example using ravel().\n",
      "  \"\"\"Entry point for launching an IPython kernel.\n",
      "C:\\Users\\AlexConda\\Anaconda3\\lib\\site-packages\\sklearn\\ensemble\\forest.py:724: UserWarning: Some inputs do not have OOB scores. This probably means too few trees were used to compute any reliable oob estimates.\n",
      "  warn(\"Some inputs do not have OOB scores. \"\n"
     ]
    },
    {
     "data": {
      "text/plain": [
       "RandomForestRegressor(bootstrap=True, criterion='mse', max_depth=None,\n",
       "           max_features='auto', max_leaf_nodes=None,\n",
       "           min_impurity_decrease=0.0, min_impurity_split=None,\n",
       "           min_samples_leaf=1, min_samples_split=2,\n",
       "           min_weight_fraction_leaf=0.0, n_estimators=15, n_jobs=1,\n",
       "           oob_score=True, random_state=1, verbose=0, warm_start=False)"
      ]
     },
     "execution_count": 89,
     "metadata": {},
     "output_type": "execute_result"
    }
   ],
   "source": [
    "RF_reg.fit(X_train, y_train)"
   ]
  },
  {
   "cell_type": "code",
   "execution_count": 90,
   "metadata": {
    "colab": {
     "autoexec": {
      "startup": false,
      "wait_interval": 0
     }
    },
    "colab_type": "code",
    "id": "3rimK1CfTVoz",
    "outputId": "7b9694cb-a130-4b68-a78b-9b3710503f8e"
   },
   "outputs": [
    {
     "data": {
      "text/plain": [
       "0.8560507688652218"
      ]
     },
     "execution_count": 90,
     "metadata": {},
     "output_type": "execute_result"
    }
   ],
   "source": [
    "RF_reg.score(X_test, y_test)"
   ]
  },
  {
   "cell_type": "code",
   "execution_count": 91,
   "metadata": {
    "colab": {
     "autoexec": {
      "startup": false,
      "wait_interval": 0
     }
    },
    "colab_type": "code",
    "id": "xnVlnwxiTVo1",
    "outputId": "49096e09-431e-446c-dd45-302f1c4917f6"
   },
   "outputs": [
    {
     "name": "stdout",
     "output_type": "stream",
     "text": [
      "Estimators is:  50 |R^2 is:  0.850463522256\n",
      "Estimators is:  60 |R^2 is:  0.852316497894\n",
      "Estimators is:  70 |R^2 is:  0.851059840085\n",
      "Estimators is:  80 |R^2 is:  0.850230803436\n",
      "Estimators is:  90 |R^2 is:  0.851588217878\n",
      "Estimators is:  100 |R^2 is:  0.853934136145\n"
     ]
    },
    {
     "data": {
      "image/png": "[encoded data removed]",
      "text/plain": [
       "<matplotlib.figure.Figure at 0x1d0b38a1c88>"
      ]
     },
     "metadata": {},
     "output_type": "display_data"
    }
   ],
   "source": [
    "\"\"\"Изобразим график обучения и посмотрим как число деревьев в лесу влияет на точность\"\"\"\n",
    "scores=[]\n",
    "for n in np.arange(50,110,10):\n",
    "    RF_reg=RandomForestRegressor(n_estimators=n,random_state=42).fit(X_train, y_train.movie_facebook_likes)\n",
    "    scores.append(RF_reg.score(X_test, y_test.movie_facebook_likes))\n",
    "    print('Estimators is: ', n,'|R^2 is: ', RF_reg.score(X_test, y_test.movie_facebook_likes))\n",
    "plt.plot(range(50, 110, 10), scores, marker='s');\n",
    "plt.xlabel('$k$')\n",
    "plt.ylabel('$R^2$');"
   ]
  },
  {
   "cell_type": "markdown",
   "metadata": {
    "colab_type": "text",
    "id": "WIN-R7FWTVo3"
   },
   "source": [
    "### ЗАДАЧА:\n",
    "1. Поиграться с парамтерами каждой из моделей и выбить наибольший возможный скор по R^2\n",
    "2. Почитать об алгоритмах:\n",
    "    RF - https://alexanderdyakonov.wordpress.com/2016/11/14/случайный-лес-random-forest/ ;\n",
    "    Linear Regression- http://scikit-learn.org/stable/auto_examples/linear_model/plot_ols.html ;\n",
    "   RF at sklearn - http://scikit-learn.org/stable/modules/generated/sklearn.ensemble.RandomForestRegressor.html ; \n",
    "   K-NN at sklearn - http://scikit-learn.org/stable/modules/generated/sklearn.neighbors.KNeighborsRegressor.html#sklearn.neighbors.KNeighborsRegressor; \n",
    "    Пример спортивного анализа данных (для ознокамления) https://habrahabr.ru/post/202090/"
   ]
  },
  {
   "cell_type": "code",
   "execution_count": 0,
   "metadata": {
    "colab": {
     "autoexec": {
      "startup": false,
      "wait_interval": 0
     }
    },
    "colab_type": "code",
    "collapsed": true,
    "id": "VYU0ITOcTVo3"
   },
   "outputs": [],
   "source": []
  }
 ],
 "metadata": {
  "colab": {
   "default_view": {},
   "name": "Shishkin.ipynb",
   "provenance": [],
   "version": "0.3.2",
   "views": {}
  },
  "kernelspec": {
   "display_name": "Python 3",
   "language": "python",
   "name": "python3"
  },
  "language_info": {
   "codemirror_mode": {
    "name": "ipython",
    "version": 3
   },
   "file_extension": ".py",
   "mimetype": "text/x-python",
   "name": "python",
   "nbconvert_exporter": "python",
   "pygments_lexer": "ipython3",
   "version": "3.6.3"
  }
 },
 "nbformat": 4,
 "nbformat_minor": 1
}
